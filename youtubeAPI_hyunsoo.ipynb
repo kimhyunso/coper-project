{
 "cells": [
  {
   "cell_type": "code",
   "execution_count": 35,
   "id": "cd1b902b",
   "metadata": {
    "scrolled": false
   },
   "outputs": [],
   "source": [
    "import pandas as pd\n",
    "# python 환경 : pip install google-api-python-client\n",
    "# anaconda환경 : conda install -c conda-forge google-api-python-client\n",
    "from googleapiclient.discovery import build\n",
    "\n",
    "# 유트브 APi : https://developers.google.com/youtube/v3/getting-started?hl=ko\n",
    "\n",
    "# 예시 유트브 링크 : https://www.youtube.com/watch?v=tZolEtoQyuY\n",
    "# 자신 API KEY 사용\n",
    "text_file = open('./API_KEY.txt', 'r')\n",
    "api_key = text_file.readline()\n",
    "\n",
    "# 댓글을 담을 변수\n",
    "comments = list()\n",
    "# youtebe, v3 api 사용 developerKey는 발급받은 키 하루 10000건 조회가능\n",
    "api_obj = build('youtube', 'v3', developerKey=api_key)\n",
    "\n",
    "# response = api_obj.videoCategories().list(part='snippet,id', regionCode='kr').execute()\n",
    "\n",
    "# https://www.youtube.com/watch?part='snippet,replies'&vieoid='asdasd'&maxResults=100이와 같이 요청을 함 snippet필수속성, replies댓글\n",
    "response = api_obj.videos().list(part='snippet,id', chart='mostPopular', regionCode='kr', maxResults=10).execute()"
   ]
  },
  {
   "cell_type": "code",
   "execution_count": 36,
   "id": "73cf25c3",
   "metadata": {},
   "outputs": [],
   "source": [
    "# video_id_list = ['cX4EOv-_AGs', '8JbpWTljkdk', 'fk8vvmHIWAA']"
   ]
  },
  {
   "cell_type": "code",
   "execution_count": 37,
   "id": "6e085f4e",
   "metadata": {
    "scrolled": true
   },
   "outputs": [
    {
     "data": {
      "text/plain": [
       "['ZfK9ER8Xh7w',\n",
       " 'SxHmoifp0oQ',\n",
       " 'jI8fYUcqVO8',\n",
       " 'Mr2qYqFQn3Q',\n",
       " 'fYzLPJXQ6uM',\n",
       " '-akkr0oS_Iw',\n",
       " '-LU0PzCDYGo',\n",
       " 'Lfu2XXeT59Y',\n",
       " 'npcaOTuL8JE',\n",
       " 'gvuj-hMpFh8']"
      ]
     },
     "execution_count": 37,
     "metadata": {},
     "output_type": "execute_result"
    }
   ],
   "source": [
    "video_id_list = list()\n",
    "comments = list()\n",
    "for i in range(10):\n",
    "    video_id_list.append(response['items'][i]['id'])\n",
    "    \n",
    "video_id_list"
   ]
  },
  {
   "cell_type": "code",
   "execution_count": 38,
   "id": "ec14833b",
   "metadata": {},
   "outputs": [],
   "source": [
    "for video_id in video_id_list:\n",
    "    response = api_obj.commentThreads().list(part='snippet,replies', videoId=video_id, maxResults=100).execute()\n",
    "    while response:\n",
    "        for item in response['items']:\n",
    "            comment = item['snippet']['topLevelComment']['snippet']\n",
    "            comments.append([comment['textOriginal'], comment['authorDisplayName'], comment['publishedAt'], comment['updatedAt'], comment['likeCount'], video_id])\n",
    "            if item['snippet']['totalReplyCount'] > 0:\n",
    "                for reply_item in item['replies']['comments']:\n",
    "                    reply = reply_item['snippet']\n",
    "                    comments.append([reply['textOriginal'], reply['authorDisplayName'], reply['publishedAt'], reply['updatedAt'], reply['likeCount'], video_id])\n",
    "        if 'nextPageToken' in response:\n",
    "            response = api_obj.commentThreads().list(part='snippet,replies', videoId=video_id, pageToken=response['nextPageToken'], maxResults=10000).execute()\n",
    "        else:\n",
    "            break\n"
   ]
  },
  {
   "cell_type": "code",
   "execution_count": 39,
   "id": "1e579120",
   "metadata": {},
   "outputs": [],
   "source": [
    "columns = ['comment', 'author', 'create_at', 'update_at', 'like_count', 'video_id']\n",
    "comments_df = pd.DataFrame(comments, columns=columns)"
   ]
  },
  {
   "cell_type": "code",
   "execution_count": 42,
   "id": "9dcda66c",
   "metadata": {},
   "outputs": [],
   "source": [
    "comments_df.to_csv('comments_update_df.csv', index=False)"
   ]
  },
  {
   "cell_type": "code",
   "execution_count": 40,
   "id": "27a2a39d",
   "metadata": {
    "scrolled": true
   },
   "outputs": [
    {
     "data": {
      "text/html": [
       "<div>\n",
       "<style scoped>\n",
       "    .dataframe tbody tr th:only-of-type {\n",
       "        vertical-align: middle;\n",
       "    }\n",
       "\n",
       "    .dataframe tbody tr th {\n",
       "        vertical-align: top;\n",
       "    }\n",
       "\n",
       "    .dataframe thead th {\n",
       "        text-align: right;\n",
       "    }\n",
       "</style>\n",
       "<table border=\"1\" class=\"dataframe\">\n",
       "  <thead>\n",
       "    <tr style=\"text-align: right;\">\n",
       "      <th></th>\n",
       "      <th>comment</th>\n",
       "      <th>author</th>\n",
       "      <th>create_at</th>\n",
       "      <th>update_at</th>\n",
       "      <th>like_count</th>\n",
       "      <th>video_id</th>\n",
       "    </tr>\n",
       "  </thead>\n",
       "  <tbody>\n",
       "    <tr>\n",
       "      <th>0</th>\n",
       "      <td>다내보냈나 재후니가 \\n짐다갔나</td>\n",
       "      <td>현팬더</td>\n",
       "      <td>2023-02-15T07:53:35Z</td>\n",
       "      <td>2023-02-15T07:53:35Z</td>\n",
       "      <td>0</td>\n",
       "      <td>ZfK9ER8Xh7w</td>\n",
       "    </tr>\n",
       "    <tr>\n",
       "      <th>1</th>\n",
       "      <td>청소용역업체 1주일에 한번씩 부를 거 같네</td>\n",
       "      <td>wx2242p</td>\n",
       "      <td>2023-02-15T07:52:09Z</td>\n",
       "      <td>2023-02-15T07:52:09Z</td>\n",
       "      <td>0</td>\n",
       "      <td>ZfK9ER8Xh7w</td>\n",
       "    </tr>\n",
       "    <tr>\n",
       "      <th>2</th>\n",
       "      <td>망했다 망했어 ㅋㅋㅋㅋㅋ</td>\n",
       "      <td>박삐삐</td>\n",
       "      <td>2023-02-15T07:52:05Z</td>\n",
       "      <td>2023-02-15T07:52:05Z</td>\n",
       "      <td>0</td>\n",
       "      <td>ZfK9ER8Xh7w</td>\n",
       "    </tr>\n",
       "    <tr>\n",
       "      <th>3</th>\n",
       "      <td>더럽고 개돼지같은 사람보단 차라리 결벽증있는 성장훈이 낫다 최소한 사람이앉을순 있잖아</td>\n",
       "      <td>밤하늘</td>\n",
       "      <td>2023-02-15T07:51:59Z</td>\n",
       "      <td>2023-02-15T07:51:59Z</td>\n",
       "      <td>1</td>\n",
       "      <td>ZfK9ER8Xh7w</td>\n",
       "    </tr>\n",
       "    <tr>\n",
       "      <th>4</th>\n",
       "      <td>못 앉게하지 ㅋㅋ</td>\n",
       "      <td>겜 돌이</td>\n",
       "      <td>2023-02-15T07:52:55Z</td>\n",
       "      <td>2023-02-15T07:52:55Z</td>\n",
       "      <td>1</td>\n",
       "      <td>ZfK9ER8Xh7w</td>\n",
       "    </tr>\n",
       "    <tr>\n",
       "      <th>...</th>\n",
       "      <td>...</td>\n",
       "      <td>...</td>\n",
       "      <td>...</td>\n",
       "      <td>...</td>\n",
       "      <td>...</td>\n",
       "      <td>...</td>\n",
       "    </tr>\n",
       "    <tr>\n",
       "      <th>59426</th>\n",
       "      <td>바람이 붑니다</td>\n",
       "      <td>ㅈㄹㅁ</td>\n",
       "      <td>2023-02-14T08:24:36Z</td>\n",
       "      <td>2023-02-14T08:24:36Z</td>\n",
       "      <td>1</td>\n",
       "      <td>gvuj-hMpFh8</td>\n",
       "    </tr>\n",
       "    <tr>\n",
       "      <th>59427</th>\n",
       "      <td>태풍오면 고등어 양식뿐만 아니라 모든 업종이 피해를 볼텐데.... 하다못해 편의점도...</td>\n",
       "      <td>성현</td>\n",
       "      <td>2023-02-14T06:29:40Z</td>\n",
       "      <td>2023-02-14T06:29:40Z</td>\n",
       "      <td>2</td>\n",
       "      <td>gvuj-hMpFh8</td>\n",
       "    </tr>\n",
       "    <tr>\n",
       "      <th>59428</th>\n",
       "      <td>바람불죠</td>\n",
       "      <td>한년만본다</td>\n",
       "      <td>2023-02-14T06:20:29Z</td>\n",
       "      <td>2023-02-14T06:20:29Z</td>\n",
       "      <td>1</td>\n",
       "      <td>gvuj-hMpFh8</td>\n",
       "    </tr>\n",
       "    <tr>\n",
       "      <th>59429</th>\n",
       "      <td>강제 방생</td>\n",
       "      <td>김선생</td>\n",
       "      <td>2023-02-14T06:20:23Z</td>\n",
       "      <td>2023-02-14T06:20:23Z</td>\n",
       "      <td>1</td>\n",
       "      <td>gvuj-hMpFh8</td>\n",
       "    </tr>\n",
       "    <tr>\n",
       "      <th>59430</th>\n",
       "      <td>비가 옵니다</td>\n",
       "      <td>111 222</td>\n",
       "      <td>2023-02-14T05:51:22Z</td>\n",
       "      <td>2023-02-14T05:51:22Z</td>\n",
       "      <td>0</td>\n",
       "      <td>gvuj-hMpFh8</td>\n",
       "    </tr>\n",
       "  </tbody>\n",
       "</table>\n",
       "<p>59431 rows × 6 columns</p>\n",
       "</div>"
      ],
      "text/plain": [
       "                                                 comment   author  \\\n",
       "0                                      다내보냈나 재후니가 \\n짐다갔나      현팬더   \n",
       "1                                청소용역업체 1주일에 한번씩 부를 거 같네  wx2242p   \n",
       "2                                          망했다 망했어 ㅋㅋㅋㅋㅋ      박삐삐   \n",
       "3        더럽고 개돼지같은 사람보단 차라리 결벽증있는 성장훈이 낫다 최소한 사람이앉을순 있잖아      밤하늘   \n",
       "4                                              못 앉게하지 ㅋㅋ     겜 돌이   \n",
       "...                                                  ...      ...   \n",
       "59426                                            바람이 붑니다      ㅈㄹㅁ   \n",
       "59427  태풍오면 고등어 양식뿐만 아니라 모든 업종이 피해를 볼텐데.... 하다못해 편의점도...       성현   \n",
       "59428                                               바람불죠    한년만본다   \n",
       "59429                                              강제 방생      김선생   \n",
       "59430                                             비가 옵니다  111 222   \n",
       "\n",
       "                  create_at             update_at  like_count     video_id  \n",
       "0      2023-02-15T07:53:35Z  2023-02-15T07:53:35Z           0  ZfK9ER8Xh7w  \n",
       "1      2023-02-15T07:52:09Z  2023-02-15T07:52:09Z           0  ZfK9ER8Xh7w  \n",
       "2      2023-02-15T07:52:05Z  2023-02-15T07:52:05Z           0  ZfK9ER8Xh7w  \n",
       "3      2023-02-15T07:51:59Z  2023-02-15T07:51:59Z           1  ZfK9ER8Xh7w  \n",
       "4      2023-02-15T07:52:55Z  2023-02-15T07:52:55Z           1  ZfK9ER8Xh7w  \n",
       "...                     ...                   ...         ...          ...  \n",
       "59426  2023-02-14T08:24:36Z  2023-02-14T08:24:36Z           1  gvuj-hMpFh8  \n",
       "59427  2023-02-14T06:29:40Z  2023-02-14T06:29:40Z           2  gvuj-hMpFh8  \n",
       "59428  2023-02-14T06:20:29Z  2023-02-14T06:20:29Z           1  gvuj-hMpFh8  \n",
       "59429  2023-02-14T06:20:23Z  2023-02-14T06:20:23Z           1  gvuj-hMpFh8  \n",
       "59430  2023-02-14T05:51:22Z  2023-02-14T05:51:22Z           0  gvuj-hMpFh8  \n",
       "\n",
       "[59431 rows x 6 columns]"
      ]
     },
     "execution_count": 40,
     "metadata": {},
     "output_type": "execute_result"
    }
   ],
   "source": [
    "comments_df"
   ]
  },
  {
   "cell_type": "code",
   "execution_count": 43,
   "id": "47a1e532",
   "metadata": {
    "scrolled": true
   },
   "outputs": [
    {
     "data": {
      "text/plain": [
       "npcaOTuL8JE    17305\n",
       "fYzLPJXQ6uM    15410\n",
       "jI8fYUcqVO8    11163\n",
       "SxHmoifp0oQ     9724\n",
       "Mr2qYqFQn3Q     1899\n",
       "Lfu2XXeT59Y     1698\n",
       "ZfK9ER8Xh7w      928\n",
       "-LU0PzCDYGo      737\n",
       "-akkr0oS_Iw      410\n",
       "gvuj-hMpFh8      157\n",
       "Name: video_id, dtype: int64"
      ]
     },
     "execution_count": 43,
     "metadata": {},
     "output_type": "execute_result"
    }
   ],
   "source": [
    "comments_df.video_id.value_counts()"
   ]
  },
  {
   "cell_type": "code",
   "execution_count": 44,
   "id": "eb4cb61a",
   "metadata": {
    "scrolled": true
   },
   "outputs": [
    {
     "data": {
      "text/plain": [
       "0        False\n",
       "1        False\n",
       "2        False\n",
       "3        False\n",
       "4        False\n",
       "         ...  \n",
       "59426    False\n",
       "59427    False\n",
       "59428    False\n",
       "59429    False\n",
       "59430    False\n",
       "Name: comment, Length: 59431, dtype: bool"
      ]
     },
     "execution_count": 44,
     "metadata": {},
     "output_type": "execute_result"
    }
   ],
   "source": [
    "comments_df['comment'].isna()"
   ]
  },
  {
   "cell_type": "code",
   "execution_count": 45,
   "id": "3febc090",
   "metadata": {
    "scrolled": true
   },
   "outputs": [
    {
     "data": {
      "text/html": [
       "<div>\n",
       "<style scoped>\n",
       "    .dataframe tbody tr th:only-of-type {\n",
       "        vertical-align: middle;\n",
       "    }\n",
       "\n",
       "    .dataframe tbody tr th {\n",
       "        vertical-align: top;\n",
       "    }\n",
       "\n",
       "    .dataframe thead th {\n",
       "        text-align: right;\n",
       "    }\n",
       "</style>\n",
       "<table border=\"1\" class=\"dataframe\">\n",
       "  <thead>\n",
       "    <tr style=\"text-align: right;\">\n",
       "      <th></th>\n",
       "      <th>like_count</th>\n",
       "    </tr>\n",
       "  </thead>\n",
       "  <tbody>\n",
       "    <tr>\n",
       "      <th>count</th>\n",
       "      <td>59431.000000</td>\n",
       "    </tr>\n",
       "    <tr>\n",
       "      <th>mean</th>\n",
       "      <td>4.548788</td>\n",
       "    </tr>\n",
       "    <tr>\n",
       "      <th>std</th>\n",
       "      <td>76.754646</td>\n",
       "    </tr>\n",
       "    <tr>\n",
       "      <th>min</th>\n",
       "      <td>0.000000</td>\n",
       "    </tr>\n",
       "    <tr>\n",
       "      <th>25%</th>\n",
       "      <td>0.000000</td>\n",
       "    </tr>\n",
       "    <tr>\n",
       "      <th>50%</th>\n",
       "      <td>0.000000</td>\n",
       "    </tr>\n",
       "    <tr>\n",
       "      <th>75%</th>\n",
       "      <td>1.000000</td>\n",
       "    </tr>\n",
       "    <tr>\n",
       "      <th>max</th>\n",
       "      <td>8618.000000</td>\n",
       "    </tr>\n",
       "  </tbody>\n",
       "</table>\n",
       "</div>"
      ],
      "text/plain": [
       "         like_count\n",
       "count  59431.000000\n",
       "mean       4.548788\n",
       "std       76.754646\n",
       "min        0.000000\n",
       "25%        0.000000\n",
       "50%        0.000000\n",
       "75%        1.000000\n",
       "max     8618.000000"
      ]
     },
     "execution_count": 45,
     "metadata": {},
     "output_type": "execute_result"
    }
   ],
   "source": [
    "comments_df.describe()"
   ]
  },
  {
   "cell_type": "code",
   "execution_count": 46,
   "id": "70dbbce9",
   "metadata": {
    "scrolled": true
   },
   "outputs": [
    {
     "name": "stdout",
     "output_type": "stream",
     "text": [
      "<class 'pandas.core.frame.DataFrame'>\n",
      "RangeIndex: 59431 entries, 0 to 59430\n",
      "Data columns (total 6 columns):\n",
      " #   Column      Non-Null Count  Dtype \n",
      "---  ------      --------------  ----- \n",
      " 0   comment     59431 non-null  object\n",
      " 1   author      59431 non-null  object\n",
      " 2   create_at   59431 non-null  object\n",
      " 3   update_at   59431 non-null  object\n",
      " 4   like_count  59431 non-null  int64 \n",
      " 5   video_id    59431 non-null  object\n",
      "dtypes: int64(1), object(5)\n",
      "memory usage: 2.7+ MB\n"
     ]
    }
   ],
   "source": [
    "comments_df.info()"
   ]
  },
  {
   "cell_type": "markdown",
   "id": "522761dc",
   "metadata": {},
   "source": []
  }
 ],
 "metadata": {
  "kernelspec": {
   "display_name": "Python 3 (ipykernel)",
   "language": "python",
   "name": "python3"
  },
  "language_info": {
   "codemirror_mode": {
    "name": "ipython",
    "version": 3
   },
   "file_extension": ".py",
   "mimetype": "text/x-python",
   "name": "python",
   "nbconvert_exporter": "python",
   "pygments_lexer": "ipython3",
   "version": "3.10.9"
  },
  "vscode": {
   "interpreter": {
    "hash": "4595c56d504348f96af1daee35d79490df37cf87d758d69ee92f17e4f33d37a1"
   }
  }
 },
 "nbformat": 4,
 "nbformat_minor": 5
}
