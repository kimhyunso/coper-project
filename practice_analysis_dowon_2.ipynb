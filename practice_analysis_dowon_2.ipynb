{
 "cells": [
  {
   "cell_type": "code",
   "execution_count": 1,
   "metadata": {},
   "outputs": [],
   "source": [
    "%matplotlib inline\n",
    "\n",
    "import matplotlib.pyplot as plt\n",
    "import seaborn as sns\n",
    "import pandas as pd\n",
    "import numpy as np\n",
    "import Preprocessing as prep\n",
    "import Visualization as vis\n",
    "\n",
    "\n",
    "import warnings\n",
    "warnings.filterwarnings(\"ignore\")               # 경고 메시지 무시\n",
    "# warnings.filterwarnings(action='default')     # 경고 메시지 활성화\n",
    "\n",
    "plt.rcParams['axes.unicode_minus'] = False      # Glyph 8722 오류 해결을 위한 설정\n",
    "plt.rcParams[\"figure.figsize\"] = (12, 9)        # 그림 크기 설정\n",
    "plt.rc('font', family=\"Malgun Gothic\")       # 한글 폰트 설정\n",
    "sns.set_theme(palette=\"Pastel1\")                                 # Seaborn의 테마 자동 설정"
   ]
  },
  {
   "cell_type": "code",
   "execution_count": null,
   "metadata": {},
   "outputs": [],
   "source": []
  },
  {
   "cell_type": "code",
   "execution_count": null,
   "metadata": {},
   "outputs": [],
   "source": []
  },
  {
   "cell_type": "code",
   "execution_count": null,
   "metadata": {},
   "outputs": [],
   "source": []
  },
  {
   "cell_type": "code",
   "execution_count": null,
   "metadata": {},
   "outputs": [],
   "source": []
  }
 ],
 "metadata": {
  "kernelspec": {
   "display_name": "Python 3",
   "language": "python",
   "name": "python3"
  },
  "language_info": {
   "codemirror_mode": {
    "name": "ipython",
    "version": 3
   },
   "file_extension": ".py",
   "mimetype": "text/x-python",
   "name": "python",
   "nbconvert_exporter": "python",
   "pygments_lexer": "ipython3",
   "version": "3.10.9"
  },
  "orig_nbformat": 4,
  "vscode": {
   "interpreter": {
    "hash": "9fba1a5f9d6c43963de4ee8871b95e050fc1217d88e3a153a6f6f7b8c7fb4620"
   }
  }
 },
 "nbformat": 4,
 "nbformat_minor": 2
}
