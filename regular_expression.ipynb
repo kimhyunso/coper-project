{
 "cells": [
  {
   "cell_type": "markdown",
   "id": "9c60745b",
   "metadata": {},
   "source": [
    "# 정규표현식\n",
    "\n",
    "|표현식|설명|\n",
    "|-|-|\n",
    "|`^x`|시작한다|\n",
    "|`x$`|종료|\n",
    "|`x\\|y`|x 또는 y|\n",
    "|`x{n}`|반복|\n",
    "|`x{n, m}`|n부터 최대 m번이하까지 반복|\n",
    "|`[xy]`|x와 y중 하나 선택|\n",
    "|`[^xy]`|xy를 제외한 나머지 문자들|\n",
    "|`[a-z]`|a부터 z까지|\n",
    "|`\\d`|숫자 의미|\n",
    "|`\\D`|숫자가 아닌것|\n",
    "|`\\w`|한 문자의미|\n",
    "|`\\W`|문자가 아닌것|\n",
    "\n",
    "|Flag|설명|\n",
    "|-|-|\n",
    "|`g`|Global : 문자열 내 모든 패턴 검색|\n",
    "|`i`|Ignore Case : 대소문자 식별 X|\n",
    "|`m`|Multi line : 다중 라인의 문자열인 겨우도 검색함|"
   ]
  },
  {
   "cell_type": "code",
   "execution_count": 47,
   "id": "7c068d40",
   "metadata": {},
   "outputs": [],
   "source": [
    "# 정규표현식 라이브러리\n",
    "import re"
   ]
  },
  {
   "cell_type": "code",
   "execution_count": 131,
   "id": "caf2f761",
   "metadata": {},
   "outputs": [
    {
     "name": "stdout",
     "output_type": "stream",
     "text": [
      "결과물 : None type : <class 'NoneType'>\n",
      "결과물 : 가 type : <class 're.Match'>\n"
     ]
    }
   ],
   "source": [
    "# match(패턴, 문자열)\n",
    "# 패턴 중 가-힣만 찾는다. 찾고자하는 문자열이 맨앞에 있어야함\n",
    "test = re.match('[가-힣]', 'ABCDabcd가나다')\n",
    "# None\n",
    "print(f'결과물 : {test} type : {type(test)}')\n",
    "\n",
    "# 패턴 중 가-힣만 찾는다. 찾고자하는 문자열이 맨앞에 있어야함\n",
    "test = re.match('[가-힣]', '가나다ABCDabcd')\n",
    "# '가' 한개의 글자만 갖고옴\n",
    "print(f'결과물 : {test[0]} type : {type(test)}')"
   ]
  },
  {
   "cell_type": "code",
   "execution_count": 133,
   "id": "d1eb28fd",
   "metadata": {},
   "outputs": [
    {
     "name": "stdout",
     "output_type": "stream",
     "text": [
      "결과물 : 가 type : <class 're.Match'>\n"
     ]
    }
   ],
   "source": [
    "# search(패턴, 문자열)\n",
    "# 패턴 중 가-힣만 찾는다. 찾고자하는 문자열이 아무데나 있어도됨\n",
    "test = re.search('[가-힣]', 'abcd가나라마마efg')\n",
    "# '가' 한개의 글자만 갖고옴\n",
    "print(f'결과물 : {test[0]} type : {type(test)}')"
   ]
  },
  {
   "cell_type": "code",
   "execution_count": 134,
   "id": "2bfc88f1",
   "metadata": {},
   "outputs": [
    {
     "name": "stdout",
     "output_type": "stream",
     "text": [
      "결과물 : ['테', '스', '트', '가', '나', '다', '라'] type : <class 'list'>\n"
     ]
    }
   ],
   "source": [
    "# findall(패턴, 문자열)\n",
    "# 패턴 중 가-힣만 찾는다. 반환 : list\n",
    "test = re.findall('[가-힣]', '테스트ABCD가나다라abcd')\n",
    "# ['테', '스', '트', '가', '나', '다', '라']\n",
    "print(f'결과물 : {test} type : {type(test)}')"
   ]
  },
  {
   "cell_type": "code",
   "execution_count": 136,
   "id": "1fa330fd",
   "metadata": {},
   "outputs": [
    {
     "name": "stdout",
     "output_type": "stream",
     "text": [
      "결과물 : 테 type : <class 're.Match'>\n",
      "결과물 : 스 type : <class 're.Match'>\n",
      "결과물 : 트 type : <class 're.Match'>\n",
      "결과물 : 가 type : <class 're.Match'>\n",
      "결과물 : 나 type : <class 're.Match'>\n",
      "결과물 : 다 type : <class 're.Match'>\n",
      "결과물 : 라 type : <class 're.Match'>\n"
     ]
    }
   ],
   "source": [
    "# finditer(패턴, 문자열)\n",
    "# 패턴 중 가-힣만 찾는다. 반환 : iterator(반복자)\n",
    "test = re.finditer('[가-힣]', '테스트  ABCDa가나다라bcd')\n",
    "# 반복자는 반복문을 통해서 데이터를 가져와야함\n",
    "for word in test:\n",
    "    print(f'결과물 : {word[0]} type : {type(word)}')"
   ]
  },
  {
   "cell_type": "code",
   "execution_count": 135,
   "id": "cf1ecacc",
   "metadata": {},
   "outputs": [
    {
     "name": "stdout",
     "output_type": "stream",
     "text": [
      "결과물 : None type : <class 'NoneType'>\n",
      "결과물 : 가나다 type : <class 're.Match'>\n"
     ]
    }
   ],
   "source": [
    "# fullmatch(패턴, 문자열) :: 완벽히 일치해야함\n",
    "# 패턴 중 가나다인 것만 추출한다.\n",
    "test = re.fullmatch('가나다', '테스트 ABCDabcd')\n",
    "print(f'결과물 : {test} type : {type(test)}')\n",
    "\n",
    "test = re.fullmatch('가나다', '가나다')\n",
    "print(f'결과물 : {test[0]} type : {type(test)}')"
   ]
  },
  {
   "cell_type": "code",
   "execution_count": 105,
   "id": "c4a7f55a",
   "metadata": {},
   "outputs": [
    {
     "name": "stdout",
     "output_type": "stream",
     "text": [
      "결과물 : ['', '', '', '', '', '', '', '', '', '', '', '', '', '테스트 데이터 '] type : <class 'list'>\n",
      "결과물 : ['', '', 'aabaasabvaa테스트 데이터 '] type : <class 'list'>\n"
     ]
    }
   ],
   "source": [
    "# split(패턴, 문자열, 최대 split수)\n",
    "# 대문자, 소문자 A~Z까지 모든 영어를 기준으로 쪼갠다. \n",
    "test = re.split('[A-Za-z]', 'abaabaasabvaa테스트 데이터 ')\n",
    "print(f'결과물 : {test} type : {type(test)}')\n",
    "\n",
    "# 2개 이상부터는 쪼개지 않는다.\n",
    "test = re.split('[A-Za-z]', 'abaabaasabvaa테스트 데이터 ', 2)\n",
    "print(f'결과물 : {test} type : {type(test)}')"
   ]
  },
  {
   "cell_type": "code",
   "execution_count": 115,
   "id": "41a3b712",
   "metadata": {},
   "outputs": [
    {
     "name": "stdout",
     "output_type": "stream",
     "text": [
      "결과물 : 가가가가가가가가가가가 type : <class 'str'>\n",
      "결과물 : 가가cdefg type : <class 'str'>\n"
     ]
    }
   ],
   "source": [
    "# sub(패턴, 교체할 문자열, 문자열, 최대 교체 수)\n",
    "# 대문자, 소문자 A~Z까지 '가'로 바꾼다.\n",
    "test = re.sub('[A-Za-z]', '가', 'abcdefgABCD')\n",
    "print(f'결과물 : {test} type : {type(test)}')\n",
    "\n",
    "# 2개 이상부터는 바뀌지 않는다.\n",
    "test = re.sub('[A-Za-z]', '가', 'abcdefg', 2)\n",
    "print(f'결과물 : {test} type : {type(test)}')"
   ]
  },
  {
   "cell_type": "code",
   "execution_count": 118,
   "id": "c1512606",
   "metadata": {},
   "outputs": [
    {
     "name": "stdout",
     "output_type": "stream",
     "text": [
      "결과물 : ('가가가가가가가가가가', 10) type : <class 'tuple'>\n",
      "결과물 : ('가가cdefABCD', 2) type : <class 'tuple'>\n"
     ]
    }
   ],
   "source": [
    "# subn(패턴, 교체할 문자열, 문자열, 최대 교체 수)\n",
    "# 대문자, 소문자 A~Z까지 '가'로 바꾼 결과와 개수를 tuple로 출력한다.\n",
    "test = re.subn('[A-Za-z]', '가', 'abcdefABCD')\n",
    "print(f'결과물 : {test} type : {type(test)}')\n",
    "\n",
    "# 2개 이상부터는 바뀌지 않는다.\n",
    "test = re.subn('[A-Za-z]', '가', 'abcdefABCD', 2)\n",
    "print(f'결과물 : {test} type : {type(test)}')"
   ]
  },
  {
   "cell_type": "code",
   "execution_count": 121,
   "id": "540774d2",
   "metadata": {},
   "outputs": [
    {
     "name": "stdout",
     "output_type": "stream",
     "text": [
      "결과물 : 가가가가 type : <class 'str'>\n"
     ]
    }
   ],
   "source": [
    "# compile(패턴)\n",
    "# 패턴을 미리 지정해줌\n",
    "test = re.compile('[A-Za-z]')\n",
    "# 문자 대체\n",
    "result = test.sub('가', 'abcd')\n",
    "print(f'결과물 : {result} type : {type(result)}')\n",
    "\n"
   ]
  },
  {
   "cell_type": "code",
   "execution_count": null,
   "id": "db4c4025",
   "metadata": {},
   "outputs": [],
   "source": []
  }
 ],
 "metadata": {
  "kernelspec": {
   "display_name": "Python 3 (ipykernel)",
   "language": "python",
   "name": "python3"
  },
  "language_info": {
   "codemirror_mode": {
    "name": "ipython",
    "version": 3
   },
   "file_extension": ".py",
   "mimetype": "text/x-python",
   "name": "python",
   "nbconvert_exporter": "python",
   "pygments_lexer": "ipython3",
   "version": "3.7.16"
  }
 },
 "nbformat": 4,
 "nbformat_minor": 5
}
