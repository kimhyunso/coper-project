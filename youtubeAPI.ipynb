{
 "cells": [
  {
   "cell_type": "code",
   "execution_count": 14,
   "id": "cd1b902b",
   "metadata": {
    "scrolled": false
   },
   "outputs": [],
   "source": [
    "import pandas as pd\n",
    "# python 환경 : pip install google-api-python-client\n",
    "# anaconda환경 : conda install -c conda-forge google-api-python-client\n",
    "from googleapiclient.discovery import build\n",
    "\n",
    "# 유트브 APi : https://developers.google.com/youtube/v3/getting-started?hl=ko\n",
    "\n",
    "# 예시 유트브 링크 : https://www.youtube.com/watch?v=tZolEtoQyuY\n",
    "# 자신 API KEY 사용\n",
    "text_file = open('./API_KEY.txt', 'r')\n",
    "api_key = text_file.readline()\n",
    "# 비디오 아이디 : tZolEtoQyuY\n",
    "video_id = 'tZolEtoQyuY'\n",
    "\n",
    "# 댓글을 담을 변수\n",
    "comments = list()\n",
    "# youtebe, v3 api 사용 developerKey는 발급받은 키 하루 10000건 조회가능\n",
    "api_obj = build('youtube', 'v3', developerKey=api_key)\n",
    "\n",
    "# response = api_obj.videoCategories().list(part='snippet,id', regionCode='kr').execute()\n",
    "\n",
    "# https://www.youtube.com/watch?part='snippet,replies'&vieoid='asdasd'&maxResults=100이와 같이 요청을 함 snippet필수속성, replies댓글\n",
    "# response = api_obj.videos().list(part='snippet,id', chart='mostPopular', regionCode='kr', maxResults=10, videoCategoryId='20').execute()\n",
    "\n"
   ]
  },
  {
   "cell_type": "code",
   "execution_count": 15,
   "id": "73cf25c3",
   "metadata": {},
   "outputs": [],
   "source": [
    "video_id_list = ['cX4EOv-_AGs', '8JbpWTljkdk', 'fk8vvmHIWAA']"
   ]
  },
  {
   "cell_type": "code",
   "execution_count": 7,
   "id": "6e085f4e",
   "metadata": {
    "scrolled": true
   },
   "outputs": [
    {
     "ename": "NameError",
     "evalue": "name 'response' is not defined",
     "output_type": "error",
     "traceback": [
      "\u001b[1;31m---------------------------------------------------------------------------\u001b[0m",
      "\u001b[1;31mNameError\u001b[0m                                 Traceback (most recent call last)",
      "\u001b[1;32m~\\AppData\\Local\\Temp\\ipykernel_6044\\1276153818.py\u001b[0m in \u001b[0;36m<module>\u001b[1;34m\u001b[0m\n\u001b[0;32m      2\u001b[0m \u001b[0mcomments\u001b[0m \u001b[1;33m=\u001b[0m \u001b[0mlist\u001b[0m\u001b[1;33m(\u001b[0m\u001b[1;33m)\u001b[0m\u001b[1;33m\u001b[0m\u001b[1;33m\u001b[0m\u001b[0m\n\u001b[0;32m      3\u001b[0m \u001b[1;32mfor\u001b[0m \u001b[0mi\u001b[0m \u001b[1;32min\u001b[0m \u001b[0mrange\u001b[0m\u001b[1;33m(\u001b[0m\u001b[1;36m10\u001b[0m\u001b[1;33m)\u001b[0m\u001b[1;33m:\u001b[0m\u001b[1;33m\u001b[0m\u001b[1;33m\u001b[0m\u001b[0m\n\u001b[1;32m----> 4\u001b[1;33m     \u001b[0mvideo_id_list\u001b[0m\u001b[1;33m.\u001b[0m\u001b[0mappend\u001b[0m\u001b[1;33m(\u001b[0m\u001b[0mresponse\u001b[0m\u001b[1;33m[\u001b[0m\u001b[1;34m'items'\u001b[0m\u001b[1;33m]\u001b[0m\u001b[1;33m[\u001b[0m\u001b[0mi\u001b[0m\u001b[1;33m]\u001b[0m\u001b[1;33m[\u001b[0m\u001b[1;34m'id'\u001b[0m\u001b[1;33m]\u001b[0m\u001b[1;33m)\u001b[0m\u001b[1;33m\u001b[0m\u001b[1;33m\u001b[0m\u001b[0m\n\u001b[0m\u001b[0;32m      5\u001b[0m \u001b[1;33m\u001b[0m\u001b[0m\n\u001b[0;32m      6\u001b[0m \u001b[0mvideo_id_list\u001b[0m\u001b[1;33m\u001b[0m\u001b[1;33m\u001b[0m\u001b[0m\n",
      "\u001b[1;31mNameError\u001b[0m: name 'response' is not defined"
     ]
    }
   ],
   "source": [
    "# video_id_list = list()\n",
    "# comments = list()\n",
    "# for i in range(10):\n",
    "#     video_id_list.append(response['items'][i]['id'])\n",
    "    \n",
    "# video_id_list"
   ]
  },
  {
   "cell_type": "code",
   "execution_count": 16,
   "id": "ec14833b",
   "metadata": {},
   "outputs": [
    {
     "name": "stdout",
     "output_type": "stream",
     "text": [
      "16072\n"
     ]
    }
   ],
   "source": [
    "for video_id in video_id_list:\n",
    "    response = api_obj.commentThreads().list(part='snippet,replies', videoId=video_id, maxResults=100).execute()\n",
    "    while response:\n",
    "        for item in response['items']:\n",
    "            comment = item['snippet']['topLevelComment']['snippet']\n",
    "            comments.append([comment['textOriginal'], comment['authorDisplayName'], comment['publishedAt'], comment['updatedAt'], comment['likeCount']])\n",
    "            if item['snippet']['totalReplyCount'] > 0:\n",
    "                for reply_item in item['replies']['comments']:\n",
    "                    reply = reply_item['snippet']\n",
    "                    comments.append([reply['textOriginal'], reply['authorDisplayName'], reply['publishedAt'], reply['updatedAt'], reply['likeCount']])\n",
    " \n",
    "        if 'nextPageToken' in response:\n",
    "            response = api_obj.commentThreads().list(part='snippet,replies', videoId=video_id, pageToken=response['nextPageToken'], maxResults=10000).execute()\n",
    "        else:\n",
    "            break\n",
    "    \n",
    "\n",
    "print(len(comments))"
   ]
  },
  {
   "cell_type": "code",
   "execution_count": 17,
   "id": "1e579120",
   "metadata": {},
   "outputs": [],
   "source": [
    "columns = ['comment', 'author', 'create_at', 'update_at', 'like_count']\n",
    "comments_df = pd.DataFrame(comments, columns=columns)"
   ]
  },
  {
   "cell_type": "code",
   "execution_count": 30,
   "id": "eb4cb61a",
   "metadata": {},
   "outputs": [
    {
     "data": {
      "text/plain": [
       "0        False\n",
       "1        False\n",
       "2        False\n",
       "3        False\n",
       "4        False\n",
       "         ...  \n",
       "16067    False\n",
       "16068    False\n",
       "16069    False\n",
       "16070    False\n",
       "16071    False\n",
       "Name: comment, Length: 16072, dtype: bool"
      ]
     },
     "execution_count": 30,
     "metadata": {},
     "output_type": "execute_result"
    }
   ],
   "source": [
    "comments_df['comment'].isna()"
   ]
  },
  {
   "cell_type": "code",
   "execution_count": 28,
   "id": "3febc090",
   "metadata": {},
   "outputs": [
    {
     "data": {
      "text/html": [
       "<div>\n",
       "<style scoped>\n",
       "    .dataframe tbody tr th:only-of-type {\n",
       "        vertical-align: middle;\n",
       "    }\n",
       "\n",
       "    .dataframe tbody tr th {\n",
       "        vertical-align: top;\n",
       "    }\n",
       "\n",
       "    .dataframe thead th {\n",
       "        text-align: right;\n",
       "    }\n",
       "</style>\n",
       "<table border=\"1\" class=\"dataframe\">\n",
       "  <thead>\n",
       "    <tr style=\"text-align: right;\">\n",
       "      <th></th>\n",
       "      <th>like_count</th>\n",
       "    </tr>\n",
       "  </thead>\n",
       "  <tbody>\n",
       "    <tr>\n",
       "      <th>count</th>\n",
       "      <td>16072.000000</td>\n",
       "    </tr>\n",
       "    <tr>\n",
       "      <th>mean</th>\n",
       "      <td>20.855276</td>\n",
       "    </tr>\n",
       "    <tr>\n",
       "      <th>std</th>\n",
       "      <td>314.400980</td>\n",
       "    </tr>\n",
       "    <tr>\n",
       "      <th>min</th>\n",
       "      <td>0.000000</td>\n",
       "    </tr>\n",
       "    <tr>\n",
       "      <th>25%</th>\n",
       "      <td>1.000000</td>\n",
       "    </tr>\n",
       "    <tr>\n",
       "      <th>50%</th>\n",
       "      <td>2.000000</td>\n",
       "    </tr>\n",
       "    <tr>\n",
       "      <th>75%</th>\n",
       "      <td>10.000000</td>\n",
       "    </tr>\n",
       "    <tr>\n",
       "      <th>max</th>\n",
       "      <td>34622.000000</td>\n",
       "    </tr>\n",
       "  </tbody>\n",
       "</table>\n",
       "</div>"
      ],
      "text/plain": [
       "         like_count\n",
       "count  16072.000000\n",
       "mean      20.855276\n",
       "std      314.400980\n",
       "min        0.000000\n",
       "25%        1.000000\n",
       "50%        2.000000\n",
       "75%       10.000000\n",
       "max    34622.000000"
      ]
     },
     "execution_count": 28,
     "metadata": {},
     "output_type": "execute_result"
    }
   ],
   "source": [
    "comments_df.describe()"
   ]
  },
  {
   "cell_type": "code",
   "execution_count": 27,
   "id": "70dbbce9",
   "metadata": {
    "scrolled": true
   },
   "outputs": [
    {
     "name": "stdout",
     "output_type": "stream",
     "text": [
      "<class 'pandas.core.frame.DataFrame'>\n",
      "RangeIndex: 16072 entries, 0 to 16071\n",
      "Data columns (total 5 columns):\n",
      " #   Column      Non-Null Count  Dtype \n",
      "---  ------      --------------  ----- \n",
      " 0   comment     16072 non-null  object\n",
      " 1   author      16072 non-null  object\n",
      " 2   create_at   16072 non-null  object\n",
      " 3   update_at   16072 non-null  object\n",
      " 4   like_count  16072 non-null  int64 \n",
      "dtypes: int64(1), object(4)\n",
      "memory usage: 627.9+ KB\n"
     ]
    }
   ],
   "source": [
    "comments_df.info()"
   ]
  },
  {
   "cell_type": "markdown",
   "id": "522761dc",
   "metadata": {},
   "source": []
  }
 ],
 "metadata": {
  "kernelspec": {
   "display_name": "Python 3 (ipykernel)",
   "language": "python",
   "name": "python3"
  },
  "language_info": {
   "codemirror_mode": {
    "name": "ipython",
    "version": 3
   },
   "file_extension": ".py",
   "mimetype": "text/x-python",
   "name": "python",
   "nbconvert_exporter": "python",
   "pygments_lexer": "ipython3",
   "version": "3.7.16"
  },
  "vscode": {
   "interpreter": {
    "hash": "4595c56d504348f96af1daee35d79490df37cf87d758d69ee92f17e4f33d37a1"
   }
  }
 },
 "nbformat": 4,
 "nbformat_minor": 5
}
