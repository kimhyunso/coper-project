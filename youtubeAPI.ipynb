{
 "cells": [
  {
   "cell_type": "code",
   "execution_count": 125,
   "id": "cd1b902b",
   "metadata": {
    "scrolled": false
   },
   "outputs": [],
   "source": [
    "import pandas as pd\n",
    "# python 환경 : pip install google-api-python-client\n",
    "# anaconda환경 : conda install -c conda-forge google-api-python-client\n",
    "from googleapiclient.discovery import build\n",
    "\n",
    "# 유트브 APi : https://developers.google.com/youtube/v3/getting-started?hl=ko\n",
    "\n",
    "# 예시 유트브 링크 : https://www.youtube.com/watch?v=tZolEtoQyuY\n",
    "# 자신 API KEY 사용\n",
    "text_file = open('./API_KEY.txt', 'r')\n",
    "api_key = text_file.readline()\n",
    "# 비디오 아이디 : tZolEtoQyuY\n",
    "video_id = 'tZolEtoQyuY'\n",
    "\n",
    "# 댓글을 담을 변수\n",
    "comments = list()\n",
    "# youtebe, v3 api 사용 developerKey는 발급받은 키 하루 10000건 조회가능\n",
    "api_obj = build('youtube', 'v3', developerKey=api_key)\n",
    "\n",
    "# response = api_obj.videoCategories().list(part='snippet,id', regionCode='kr').execute()\n",
    "\n",
    "# https://www.youtube.com/watch?part='snippet,replies'&vieoid='asdasd'&maxResults=100이와 같이 요청을 함 snippet필수속성, replies댓글\n",
    "# response = api_obj.videos().list(part='snippet,id', chart='mostPopular', regionCode='kr', maxResults=10, videoCategoryId='20').execute()\n",
    "\n"
   ]
  },
  {
   "cell_type": "code",
   "execution_count": 127,
   "id": "73cf25c3",
   "metadata": {},
   "outputs": [],
   "source": [
    "video_id_list = ['cX4EOv-_AGs', '8JbpWTljkdk', 'fk8vvmHIWAA']"
   ]
  },
  {
   "cell_type": "code",
   "execution_count": 108,
   "id": "6e085f4e",
   "metadata": {
    "scrolled": true
   },
   "outputs": [
    {
     "data": {
      "text/plain": [
       "['SxHmoifp0oQ',\n",
       " 'Lfu2XXeT59Y',\n",
       " 'npcaOTuL8JE',\n",
       " 'fk8vvmHIWAA',\n",
       " 'hJYr4oLnu8w',\n",
       " '8JbpWTljkdk',\n",
       " 'fYzLPJXQ6uM',\n",
       " 'yc2AtGJuW74',\n",
       " 'qAMzfHDgtdg',\n",
       " '455jvitgBrU']"
      ]
     },
     "execution_count": 108,
     "metadata": {},
     "output_type": "execute_result"
    }
   ],
   "source": [
    "video_id_list = list()\n",
    "comments = list()\n",
    "for i in range(10):\n",
    "    video_id_list.append(response['items'][i]['id'])\n",
    "    \n",
    "video_id_list"
   ]
  },
  {
   "cell_type": "code",
   "execution_count": 129,
   "id": "ec14833b",
   "metadata": {},
   "outputs": [
    {
     "name": "stdout",
     "output_type": "stream",
     "text": [
      "16373\n"
     ]
    }
   ],
   "source": [
    "for video_id in video_id_list:\n",
    "    response = api_obj.commentThreads().list(part='snippet,replies', videoId=video_id, maxResults=100).execute()\n",
    "    while response:\n",
    "        for item in response['items']:\n",
    "            comment = item['snippet']['topLevelComment']['snippet']\n",
    "            comments.append([comment['textOriginal'], comment['authorDisplayName'], comment['publishedAt'], comment['updatedAt'], comment['likeCount']])\n",
    "            if item['snippet']['totalReplyCount'] > 0:\n",
    "                for reply_item in item['replies']['comments']:\n",
    "                    reply = reply_item['snippet']\n",
    "                    comments.append([reply['textOriginal'], reply['authorDisplayName'], reply['publishedAt'], reply['updatedAt'], reply['likeCount']])\n",
    " \n",
    "        if 'nextPageToken' in response:\n",
    "            response = api_obj.commentThreads().list(part='snippet,replies', videoId=video_id, pageToken=response['nextPageToken'], maxResults=10000).execute()\n",
    "        else:\n",
    "            break\n",
    "    \n",
    "\n",
    "print(len(comments))"
   ]
  },
  {
   "cell_type": "code",
   "execution_count": 131,
   "id": "1e579120",
   "metadata": {},
   "outputs": [],
   "source": [
    "columns = ['comment', 'author', 'create_at', 'update_at', 'like_count']\n",
    "comments_df = pd.DataFrame(comments, columns=columns)"
   ]
  },
  {
   "cell_type": "code",
   "execution_count": 132,
   "id": "eb4cb61a",
   "metadata": {},
   "outputs": [
    {
     "data": {
      "text/html": [
       "<div>\n",
       "<style scoped>\n",
       "    .dataframe tbody tr th:only-of-type {\n",
       "        vertical-align: middle;\n",
       "    }\n",
       "\n",
       "    .dataframe tbody tr th {\n",
       "        vertical-align: top;\n",
       "    }\n",
       "\n",
       "    .dataframe thead th {\n",
       "        text-align: right;\n",
       "    }\n",
       "</style>\n",
       "<table border=\"1\" class=\"dataframe\">\n",
       "  <thead>\n",
       "    <tr style=\"text-align: right;\">\n",
       "      <th></th>\n",
       "      <th>comment</th>\n",
       "      <th>author</th>\n",
       "      <th>create_at</th>\n",
       "      <th>update_at</th>\n",
       "      <th>like_count</th>\n",
       "    </tr>\n",
       "  </thead>\n",
       "  <tbody>\n",
       "    <tr>\n",
       "      <th>0</th>\n",
       "      <td>임영웅 사랑합니다 임영웅 나의최고가수 응원해요 임영웅 최고의 가창력 응원합니다💙</td>\n",
       "      <td>장해옥</td>\n",
       "      <td>2023-02-15T02:11:37Z</td>\n",
       "      <td>2023-02-15T02:11:37Z</td>\n",
       "      <td>4</td>\n",
       "    </tr>\n",
       "    <tr>\n",
       "      <th>1</th>\n",
       "      <td>임영웅 \\n웅토끼 나이트\\n고고넘신나신나요  임영웅   히어로만 믿고\\n갑니다 경쾌...</td>\n",
       "      <td>권정순</td>\n",
       "      <td>2023-02-15T02:10:14Z</td>\n",
       "      <td>2023-02-15T02:10:14Z</td>\n",
       "      <td>3</td>\n",
       "    </tr>\n",
       "    <tr>\n",
       "      <th>2</th>\n",
       "      <td>임영웅 나의원픽\\n잘 되어서 넘좋다^^</td>\n",
       "      <td>여용순</td>\n",
       "      <td>2023-02-15T01:39:02Z</td>\n",
       "      <td>2023-02-15T01:39:02Z</td>\n",
       "      <td>6</td>\n",
       "    </tr>\n",
       "    <tr>\n",
       "      <th>3</th>\n",
       "      <td>다시보고 또봐도 울 영웅 님 멋져요~~사랑합니다   끝까지 응원합니다</td>\n",
       "      <td>정수산나</td>\n",
       "      <td>2023-02-15T01:38:02Z</td>\n",
       "      <td>2023-02-15T01:38:02Z</td>\n",
       "      <td>6</td>\n",
       "    </tr>\n",
       "    <tr>\n",
       "      <th>4</th>\n",
       "      <td>임영웅 HERO 응원합니다</td>\n",
       "      <td>레릿비</td>\n",
       "      <td>2023-02-15T01:26:16Z</td>\n",
       "      <td>2023-02-15T01:26:16Z</td>\n",
       "      <td>5</td>\n",
       "    </tr>\n",
       "    <tr>\n",
       "      <th>...</th>\n",
       "      <td>...</td>\n",
       "      <td>...</td>\n",
       "      <td>...</td>\n",
       "      <td>...</td>\n",
       "      <td>...</td>\n",
       "    </tr>\n",
       "    <tr>\n",
       "      <th>16368</th>\n",
       "      <td>이댓글..재밌어요?...</td>\n",
       "      <td>우</td>\n",
       "      <td>2023-02-13T10:00:59Z</td>\n",
       "      <td>2023-02-13T10:00:59Z</td>\n",
       "      <td>0</td>\n",
       "    </tr>\n",
       "    <tr>\n",
       "      <th>16369</th>\n",
       "      <td>@GGari 거지인생</td>\n",
       "      <td>노래연습 계정</td>\n",
       "      <td>2023-02-11T21:51:17Z</td>\n",
       "      <td>2023-02-11T21:51:17Z</td>\n",
       "      <td>0</td>\n",
       "    </tr>\n",
       "    <tr>\n",
       "      <th>16370</th>\n",
       "      <td>ヲ҉ ヲ҉ ヲ҉ ヲ҉ ヲ҉ ヲ҉ ヲ҉ ヲ҉ ヲ҉ ヲ҉ ヲ҉ ヲ҉ ヲ҉ ヲ҉ ヲ҉ ヲ...</td>\n",
       "      <td>김예성</td>\n",
       "      <td>2023-02-11T17:13:15Z</td>\n",
       "      <td>2023-02-11T17:13:15Z</td>\n",
       "      <td>0</td>\n",
       "    </tr>\n",
       "    <tr>\n",
       "      <th>16371</th>\n",
       "      <td>???연진아 부엉이바위로 가자</td>\n",
       "      <td>김두환</td>\n",
       "      <td>2023-02-11T04:08:39Z</td>\n",
       "      <td>2023-02-11T04:08:39Z</td>\n",
       "      <td>0</td>\n",
       "    </tr>\n",
       "    <tr>\n",
       "      <th>16372</th>\n",
       "      <td>1</td>\n",
       "      <td>엉엉</td>\n",
       "      <td>2023-02-09T00:00:40Z</td>\n",
       "      <td>2023-02-09T00:00:40Z</td>\n",
       "      <td>0</td>\n",
       "    </tr>\n",
       "  </tbody>\n",
       "</table>\n",
       "<p>16373 rows × 5 columns</p>\n",
       "</div>"
      ],
      "text/plain": [
       "                                                 comment   author  \\\n",
       "0           임영웅 사랑합니다 임영웅 나의최고가수 응원해요 임영웅 최고의 가창력 응원합니다💙      장해옥   \n",
       "1      임영웅 \\n웅토끼 나이트\\n고고넘신나신나요  임영웅   히어로만 믿고\\n갑니다 경쾌...      권정순   \n",
       "2                                  임영웅 나의원픽\\n잘 되어서 넘좋다^^      여용순   \n",
       "3                 다시보고 또봐도 울 영웅 님 멋져요~~사랑합니다   끝까지 응원합니다     정수산나   \n",
       "4                                         임영웅 HERO 응원합니다      레릿비   \n",
       "...                                                  ...      ...   \n",
       "16368                                      이댓글..재밌어요?...        우   \n",
       "16369                                        @GGari 거지인생  노래연습 계정   \n",
       "16370  ヲ҉ ヲ҉ ヲ҉ ヲ҉ ヲ҉ ヲ҉ ヲ҉ ヲ҉ ヲ҉ ヲ҉ ヲ҉ ヲ҉ ヲ҉ ヲ҉ ヲ҉ ヲ...      김예성   \n",
       "16371                                   ???연진아 부엉이바위로 가자      김두환   \n",
       "16372                                                  1       엉엉   \n",
       "\n",
       "                  create_at             update_at  like_count  \n",
       "0      2023-02-15T02:11:37Z  2023-02-15T02:11:37Z           4  \n",
       "1      2023-02-15T02:10:14Z  2023-02-15T02:10:14Z           3  \n",
       "2      2023-02-15T01:39:02Z  2023-02-15T01:39:02Z           6  \n",
       "3      2023-02-15T01:38:02Z  2023-02-15T01:38:02Z           6  \n",
       "4      2023-02-15T01:26:16Z  2023-02-15T01:26:16Z           5  \n",
       "...                     ...                   ...         ...  \n",
       "16368  2023-02-13T10:00:59Z  2023-02-13T10:00:59Z           0  \n",
       "16369  2023-02-11T21:51:17Z  2023-02-11T21:51:17Z           0  \n",
       "16370  2023-02-11T17:13:15Z  2023-02-11T17:13:15Z           0  \n",
       "16371  2023-02-11T04:08:39Z  2023-02-11T04:08:39Z           0  \n",
       "16372  2023-02-09T00:00:40Z  2023-02-09T00:00:40Z           0  \n",
       "\n",
       "[16373 rows x 5 columns]"
      ]
     },
     "execution_count": 132,
     "metadata": {},
     "output_type": "execute_result"
    }
   ],
   "source": [
    "comments_df"
   ]
  },
  {
   "cell_type": "code",
   "execution_count": null,
   "id": "70dbbce9",
   "metadata": {},
   "outputs": [],
   "source": []
  }
 ],
 "metadata": {
  "kernelspec": {
   "display_name": "Python 3 (ipykernel)",
   "language": "python",
   "name": "python3"
  },
  "language_info": {
   "codemirror_mode": {
    "name": "ipython",
    "version": 3
   },
   "file_extension": ".py",
   "mimetype": "text/x-python",
   "name": "python",
   "nbconvert_exporter": "python",
   "pygments_lexer": "ipython3",
   "version": "3.7.16"
  },
  "vscode": {
   "interpreter": {
    "hash": "4595c56d504348f96af1daee35d79490df37cf87d758d69ee92f17e4f33d37a1"
   }
  }
 },
 "nbformat": 4,
 "nbformat_minor": 5
}
