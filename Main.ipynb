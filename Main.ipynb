{
 "cells": [
  {
   "cell_type": "code",
   "execution_count": 243,
   "id": "428056ef",
   "metadata": {},
   "outputs": [],
   "source": [
    "# YoutubeModule Class\n",
    "from CrawlingModule import YoutubeBuilder\n",
    "import pandas as pd\n",
    "import Preprocessing as prep\n",
    "import numpy as np\n",
    "\n",
    "# KEY 파일로 읽어오기\n",
    "KEY_FILE = open('./API_KEY.txt', 'r')\n",
    "\n",
    "# API_KEY 할당\n",
    "API_KEY = KEY_FILE.readline().split(':')[1]\n",
    "\n",
    "# YoutbeModule Instarnce \n",
    "bulider = YoutubeBuilder(API_KEY)"
   ]
  },
  {
   "cell_type": "code",
   "execution_count": 244,
   "id": "03f8d6e1",
   "metadata": {},
   "outputs": [],
   "source": [
    "# channelId = bulider.search_get_channelId('할명수')\n",
    "# video_id_list = bulider.search_get_videoId_in_channel(channelId=channelId)\n",
    "\n",
    "# video_list = bulider.get_videos_in_videoId_list(videoId_list=video_id_list)"
   ]
  },
  {
   "cell_type": "code",
   "execution_count": 245,
   "id": "6f3c4be0",
   "metadata": {},
   "outputs": [],
   "source": [
    "# comments_list, none_video_id_list = bulider.get_comments(video_id_list)"
   ]
  },
  {
   "cell_type": "code",
   "execution_count": null,
   "id": "e3000bcf",
   "metadata": {},
   "outputs": [],
   "source": [
    "df = pd.DataFrame(video_id_list, columns=['video_id'])\n",
    "(df.video_id.value_counts() > 2).values"
   ]
  },
  {
   "cell_type": "code",
   "execution_count": null,
   "id": "565fd939",
   "metadata": {},
   "outputs": [],
   "source": [
    "# video_id,category_id,category_name,title,views_count,like_count,uploaded_at\n",
    "df = pd.DataFrame(video_list, columns=['video_id', 'category_id', 'category_name', 'title', 'views_count', 'like_count', 'uploaded_at', 'tags'])\n",
    "\n",
    "df.tags = chim_df.tags.apply(lambda x : prep.extract_tags(x, name='#할명수 '))\n",
    "df.uploaded_at = pd.to_datetime(chim_df.uploaded_at)\n",
    "df.to_csv('./데이터/할명수_videos.csv', index=False)"
   ]
  },
  {
   "cell_type": "code",
   "execution_count": null,
   "id": "ff78f1ad",
   "metadata": {},
   "outputs": [],
   "source": [
    "df = pd.DataFrame(comments_list, columns=['video_id', 'comment_id', 'comment', 'like_count', 'created_at', 'updated_at'])\n",
    "df.created_at = pd.to_datetime(df.created_at)\n",
    "df.updated_at = pd.to_datetime(df.updated_at)\n",
    "\n",
    "\n",
    "df.to_csv('./데이터/할명수_comments.csv', index=False)\n",
    "# df.isna().sum()"
   ]
  },
  {
   "cell_type": "code",
   "execution_count": 263,
   "id": "4de00f4c",
   "metadata": {},
   "outputs": [],
   "source": [
    "# df = pd.read_csv('C:/Users/TECH2_06/Downloads/아구이뽀_videos.csv', engine='python', encoding='utf-8')\n",
    "chim_comment_df = pd.read_csv('./데이터/침착맨_comments.csv', encoding='utf-8', engine='python')\n",
    "# df.tags = df.tags.apply(lambda x : prep.extract_tags(x, name='#할명수 '))\n",
    "# df.loc[df.title.apply(prep.extract_tags) != ''].tags = df.loc[df.title.apply(prep.extract_tags) != ''].title.apply(lambda x : prep.extract_tags(x, name='#할명수 #박명수 '))\n",
    "# df.loc[df.title.apply(prep.extract_tags) != ''].tags\n",
    "# df.loc[df.title.apply(prep.extract_tags) != ''].title.apply(lambda x : prep.extract_tags(x, name='#할명수 #박명수 '))\n",
    "# df.tags = df.tags.apply(lambda x : prep.extract_tags(x, name='#슈카월드 '))\n",
    "\n",
    "# df.uploaded_at = pd.to_datetime(df.uploaded_at)\n",
    "\n",
    "# df.to_csv('./데이터/임나은_videos.csv', index=False)\n",
    "\n",
    "# prep.extract_tags(df.iloc[0].tags, name='#짐종국 ')\n",
    "# df.tags = df.tags.apply(lambda x : prep.extract_tags(x))\n",
    "# df.sort_values(by='uploaded_at', ascending=False)"
   ]
  },
  {
   "cell_type": "code",
   "execution_count": 264,
   "id": "5f855be2",
   "metadata": {},
   "outputs": [],
   "source": [
    "import pandas as pd\n",
    "import numpy as np\n",
    "import Preprocessing as prep\n",
    "from konlpy.tag import Twitter\n",
    "from wordcloud import WordCloud\n",
    "from matplotlib import pyplot as plt\n",
    "from PIL import Image\n",
    "from collections import Counter"
   ]
  },
  {
   "cell_type": "code",
   "execution_count": 265,
   "id": "c32c79d6",
   "metadata": {},
   "outputs": [],
   "source": [
    "video_comment_list = list()\n",
    "unique_video_id = chim_comment_df.video_id.unique()\n",
    "\n",
    "video_id_and_count = dict()\n",
    "\n",
    "for video_id in unique_video_id:\n",
    "    video_id_and_count[video_id] = chim_comment_df.loc[chim_comment_df.video_id == video_id].like_count.sum()"
   ]
  },
  {
   "cell_type": "code",
   "execution_count": 266,
   "id": "de01678f",
   "metadata": {},
   "outputs": [
    {
     "data": {
      "text/plain": [
       "[('9LQsLPsKRq8', 249293),\n",
       " ('53XqM_ofaKw', 190531),\n",
       " ('IfOSBmBCWw0', 179334),\n",
       " ('Z1vgOoIuP5M', 178658),\n",
       " ('pkXiOnXAO90', 159794),\n",
       " ('IxaOybVE50Y', 157480),\n",
       " ('hnanNlDbsE4', 157341),\n",
       " ('WeGDixN-u48', 138470),\n",
       " ('V1ryDPaC6mo', 124858),\n",
       " ('SP-LJqVgQuw', 122089)]"
      ]
     },
     "execution_count": 266,
     "metadata": {},
     "output_type": "execute_result"
    }
   ],
   "source": [
    "# 비디오별 댓글 좋아요 수\n",
    "comments_like_sum = sorted(video_id_and_count.items(), key=lambda x:x[1], reverse=True)\n",
    "\n",
    "video_on_comments_like_sum = list()\n",
    "\n",
    "for idx, value in enumerate(comments_like_sum):\n",
    "    if idx == 10:\n",
    "        break\n",
    "    video_on_comments_like_sum.append(value)\n",
    "\n",
    "video_on_comments_like_sum"
   ]
  },
  {
   "cell_type": "code",
   "execution_count": null,
   "id": "4bf9340c",
   "metadata": {},
   "outputs": [
    {
     "name": "stdout",
     "output_type": "stream",
     "text": [
      "341671                             [진짜, 괴한]\n",
      "341672                                   []\n",
      "341673        [배속, 누가, 생각, 죽겠네, 취한, 소리, 느낌]\n",
      "341674                             [영어, 제목]\n",
      "341675                     [세월, 영상, 벌써, 전이]\n",
      "                        ...                \n",
      "345305                   [오른쪽, 복숭아, 아인, 요물]\n",
      "345306                            [썸네일, 보이]\n",
      "345307                                   []\n",
      "345308    [틀니, 복숭아, 사람, 이빨, 시험, 이빨, 박살, 틀니]\n",
      "345309                                [복숭아]\n",
      "Name: comment, Length: 3639, dtype: object\n",
      "291412                                 [베프]\n",
      "291413    [방장, 이의, 사춘기, 시작, 이제, 만날, 몹시, 읍니]\n",
      "291414                                   []\n",
      "291415                         [초반, 세트, 기네]\n",
      "291416                                   []\n",
      "                        ...                \n",
      "292964                             [사람, 입장]\n",
      "292965                             [인트, 천재]\n",
      "292966                                 [이건]\n",
      "292967                                   []\n",
      "292968                                   []\n",
      "Name: comment, Length: 1557, dtype: object\n",
      "285001        [썸네일]\n",
      "285002           []\n",
      "285003    [진짜, 똘똘하]\n",
      "285004         [힐링]\n",
      "285005           []\n",
      "            ...    \n",
      "286351           []\n",
      "286352       [따끈따끈]\n",
      "286353           []\n",
      "286354        [배불렁]\n",
      "286355           []\n",
      "Name: comment, Length: 1355, dtype: object\n",
      "329844                          [썸네일, 사기]\n",
      "329845                          [진짜, 귀여웡]\n",
      "329846                               [진짜]\n",
      "329847    [그거, 인류, 타임머신, 만들얐, 미래, 지금, 아무]\n",
      "329848                                 []\n",
      "                       ...               \n",
      "331642                              [썸네일]\n",
      "331643                               [사랑]\n",
      "331644                              [썸네일]\n",
      "331645                                 []\n",
      "331646                                 []\n",
      "Name: comment, Length: 1803, dtype: object\n"
     ]
    }
   ],
   "source": [
    "twitter = Twitter()\n",
    "test_list = []\n",
    "new_df = list()\n",
    "stopwords = prep.stopwords('./데이터/stopwords.txt')\n",
    "for video_id in video_on_comments_like_sum:\n",
    "    print(chim_comment_df.loc[chim_comment_df.video_id == video_id[0]].comment.apply(lambda x : prep.text_cleaning(x, stopwords)))"
   ]
  },
  {
   "cell_type": "code",
   "execution_count": null,
   "id": "88f1922e",
   "metadata": {},
   "outputs": [],
   "source": [
    "count = 0\n",
    "text_list = list()\n",
    "string = ''\n",
    "font_path = r'C:/Windows/Fonts/malgun.ttf'\n",
    "youtube_mask = np.array(Image.open('./데이터/youtube_logo.jfif'))\n",
    "new_df = list()\n",
    "\n",
    "for i in range(10):\n",
    "    new_df = pd.read_csv(f'./데이터/test{i}.csv')\n",
    "\n",
    "for comment in new_df.comment.values:\n",
    "    string += ' '.join(comment)\n",
    "text_list.append(string)\n",
    "\n",
    "wc = WordCloud(font_path=font_path, background_color='white', stopwords=['개소리', '존나', '개'], mask=youtube_mask,\n",
    "       max_font_size=30, scale=7).generate(text_list[0])\n",
    "plt.figure(figsize=(10, 5))\n",
    "plt.axis('off')\n",
    "plt.imshow(wc, interpolation='bilinear')\n",
    "plt.show()\n",
    "# wc.to_file(filename=\"침착맨_원피스.png\")"
   ]
  },
  {
   "cell_type": "code",
   "execution_count": null,
   "id": "32733a11",
   "metadata": {},
   "outputs": [],
   "source": [
    "from wordcloud import WordCloud\n",
    "from matplotlib import pyplot as plt\n",
    "\n",
    "from PIL import Image\n",
    "\n",
    "\n",
    "font_path = r'C:/Windows/Fonts/malgun.ttf'\n",
    "\n",
    "youtube_mask = np.array(Image.open('./데이터/youtube_logo.jfif'))\n",
    "\n",
    "wc = WordCloud(font_path=font_path, background_color='white', stopwords=['개소리', '존나', '개'], mask=youtube_mask,\n",
    "               max_font_size=30, scale=7, colors=['red', '']).generate(text_list[0])\n",
    "plt.figure(figsize=(10, 5))\n",
    "plt.axis('off')\n",
    "plt.imshow(wc, interpolation='bilinear')\n",
    "plt.show()\n",
    "# wc.to_file(filename=\"침착맨_복숭아_대전.png\")"
   ]
  },
  {
   "cell_type": "code",
   "execution_count": null,
   "id": "c7beb8cf",
   "metadata": {},
   "outputs": [],
   "source": []
  },
  {
   "cell_type": "code",
   "execution_count": null,
   "id": "904e6aab",
   "metadata": {},
   "outputs": [],
   "source": []
  }
 ],
 "metadata": {
  "kernelspec": {
   "display_name": "Python 3 (ipykernel)",
   "language": "python",
   "name": "python3"
  },
  "language_info": {
   "codemirror_mode": {
    "name": "ipython",
    "version": 3
   },
   "file_extension": ".py",
   "mimetype": "text/x-python",
   "name": "python",
   "nbconvert_exporter": "python",
   "pygments_lexer": "ipython3",
   "version": "3.10.9"
  },
  "vscode": {
   "interpreter": {
    "hash": "a81b4bc3938bd8f3d69751270fa5baefbe4154c7526f8690ed0936808b926fab"
   }
  }
 },
 "nbformat": 4,
 "nbformat_minor": 5
}
