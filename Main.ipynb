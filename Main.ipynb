{
 "cells": [
  {
   "cell_type": "code",
   "execution_count": 1,
   "id": "0f360fb2",
   "metadata": {
    "scrolled": false
   },
   "outputs": [
    {
     "name": "stdout",
     "output_type": "stream",
     "text": [
      "10\n"
     ]
    }
   ],
   "source": [
    "# 딱 한번만 돌릴것\n",
    "from youtube_module import YoutubeBulider\n",
    "# KEY 파일로 읽어오기\n",
    "KEY_FILE = open('./API_KEY.txt', 'r')\n",
    "# API_KEY 할당\n",
    "API_KEY = KEY_FILE.readline()\n",
    "\n",
    "# YoutbeModule 사용\n",
    "bulider = YoutubeBulider(API_KEY)\n",
    "\n",
    "# yotube_API를 이용한 인기 급상승 video_id 가져오기\n",
    "bulider.get_videos()\n",
    "\n",
    "# 인기 동영상의 video_id를 list로 가져온다.\n",
    "video_list = bulider.get_video_list(10)\n",
    "\n",
    "# video_list의 길이 :: top 몇 개\n",
    "print(len(video_list))"
   ]
  },
  {
   "cell_type": "code",
   "execution_count": null,
   "id": "d2ed0d15",
   "metadata": {
    "scrolled": true
   },
   "outputs": [],
   "source": [
    "# 인기 동영상의 댓글 목록을 가져온다.\n",
    "comments_list = bulider.get_comments(video_list)\n",
    "\n",
    "# 댓글 목록을 DataFrame으로 만든다.\n",
    "comments_df = bulider.create_df(comments_list)\n",
    "\n",
    "# csv 파일로 저장하기 위함\n",
    "comments_df.to_csv('./commets_df.csv')"
   ]
  },
  {
   "cell_type": "code",
   "execution_count": null,
   "id": "564a728d",
   "metadata": {},
   "outputs": [],
   "source": []
  },
  {
   "cell_type": "code",
   "execution_count": null,
   "id": "f819d27a",
   "metadata": {},
   "outputs": [],
   "source": []
  }
 ],
 "metadata": {
  "kernelspec": {
   "display_name": "Python 3 (ipykernel)",
   "language": "python",
   "name": "python3"
  },
  "language_info": {
   "codemirror_mode": {
    "name": "ipython",
    "version": 3
   },
   "file_extension": ".py",
   "mimetype": "text/x-python",
   "name": "python",
   "nbconvert_exporter": "python",
   "pygments_lexer": "ipython3",
   "version": "3.10.9"
  }
 },
 "nbformat": 4,
 "nbformat_minor": 5
}
