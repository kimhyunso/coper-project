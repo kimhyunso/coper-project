{
 "cells": [
  {
   "cell_type": "code",
   "execution_count": 1,
   "id": "428056ef",
   "metadata": {},
   "outputs": [],
   "source": [
    "# YoutubeModule Class\n",
    "from CrawlingModule import YoutubeBuilder\n",
    "\n",
    "# KEY 파일로 읽어오기\n",
    "KEY_FILE = open('./API_KEY.txt', 'r')\n",
    "\n",
    "# API_KEY 할당\n",
    "API_KEY = KEY_FILE.readline()\n",
    "\n",
    "# YoutbeModule Instarnce \n",
    "bulider = YoutubeBuilder(API_KEY)"
   ]
  },
  {
   "cell_type": "code",
   "execution_count": 2,
   "id": "03f8d6e1",
   "metadata": {},
   "outputs": [],
   "source": [
    "channelId = bulider.search_get_channelId('침착맨')\n",
    "video_id_list = bulider.search_get_videoId_in_channel(channelId=channelId)\n",
    "\n",
    "# video_list = bulider.get_videos_in_videoId_list(videoId_list=video_id_list)"
   ]
  },
  {
   "cell_type": "code",
   "execution_count": null,
   "id": "6f3c4be0",
   "metadata": {},
   "outputs": [],
   "source": [
    "# comments_list, none_video_id_list = bulider.get_comments(video_id_list)"
   ]
  },
  {
   "cell_type": "code",
   "execution_count": 4,
   "id": "e3000bcf",
   "metadata": {},
   "outputs": [
    {
     "data": {
      "text/plain": [
       "425"
      ]
     },
     "execution_count": 4,
     "metadata": {},
     "output_type": "execute_result"
    }
   ],
   "source": [
    "import pandas as pd\n",
    "df = pd.DataFrame(video_id_list, columns=['video_id'])\n",
    "(df.video_id.value_counts() > 2).values\n",
    "\n"
   ]
  },
  {
   "cell_type": "code",
   "execution_count": null,
   "id": "565fd939",
   "metadata": {},
   "outputs": [],
   "source": [
    "import pandas as pd\n",
    "\n",
    "# video_id,category_id,category_name,title,views_count,like_count,uploaded_at\n",
    "kim_df = pd.DataFrame(video_list, columns=['video_id', 'category_id', 'category_name', 'title', 'views_count', 'like_count', 'uploaded_at', 'tags'])\n",
    "\n",
    "# chim_df.created_at = pd.to_datetime(chim_df.uploaded_at)\n",
    "kim_df.to_csv('./데이터/김종국_videos.csv', index=False)\n",
    "# df.to_csv('./데이터/침착맨_videos.csv', index=False)"
   ]
  },
  {
   "cell_type": "code",
   "execution_count": null,
   "id": "9eeb2786",
   "metadata": {},
   "outputs": [],
   "source": [
    "# import pandas as pd\n",
    "# import Preprocessing as prep\n",
    "# chim_df = pd.read_csv('./데이터/침착맨_videos.csv', encoding='utf-8', engine='python')\n",
    "# chim_df.uploaded_at = pd.to_datetime(chim_df.uploaded_at)\n",
    "\n",
    "\n",
    "# chim_df.sort_values(by='views_count', ascending=False).head(10)\n",
    "# chim_df.sort_values(by='like_count', ascending=False).head(10)\n",
    "\n",
    "# chim_df.description = chim_df.description.apply(lambda x : prep.extract_hashtags(x, name='#침착맨 '))\n",
    "# chim_df.description = chim_df.description.apply(lambda x : prep.remove_other_hashtag(x, chim_df, './chim_dict.txt'))"
   ]
  },
  {
   "cell_type": "code",
   "execution_count": null,
   "id": "5f855be2",
   "metadata": {},
   "outputs": [],
   "source": [
    "import pandas as pd\n",
    "import numpy as np\n",
    "import Preprocessing as prep\n",
    "from konlpy.tag import Twitter\n",
    "from wordcloud import WordCloud\n",
    "from matplotlib import pyplot as plt\n",
    "from PIL import Image\n",
    "from collections import Counter\n",
    "\n",
    "chim_comment_df = pd.read_csv('./데이터/chim_comments.csv', encoding='utf-8', engine='python')\n",
    "chim_comment_df"
   ]
  },
  {
   "cell_type": "code",
   "execution_count": null,
   "id": "c32c79d6",
   "metadata": {},
   "outputs": [],
   "source": [
    "video_comment_list = list()\n",
    "unique_video_id = chim_comment_df.video_id.unique()\n",
    "\n",
    "video_id_and_count = dict()\n",
    "\n",
    "for video_id in unique_video_id:\n",
    "    video_id_and_count[video_id] = chim_comment_df.loc[chim_comment_df.video_id == video_id].like_count.sum()"
   ]
  },
  {
   "cell_type": "code",
   "execution_count": null,
   "id": "de01678f",
   "metadata": {},
   "outputs": [],
   "source": [
    "# 비디오별 댓글 좋아요 수\n",
    "comments_like_sum = sorted(video_id_and_count.items(), key=lambda x:x[1], reverse=True)\n",
    "\n",
    "video_on_comments_like_sum = list()\n",
    "\n",
    "for idx, value in enumerate(comments_like_sum):\n",
    "    if idx == 10:\n",
    "        break\n",
    "    video_on_comments_like_sum.append(value)\n",
    "\n",
    "video_on_comments_like_sum"
   ]
  },
  {
   "cell_type": "code",
   "execution_count": null,
   "id": "4bf9340c",
   "metadata": {},
   "outputs": [],
   "source": [
    "twitter = Twitter()\n",
    "test_list = []\n",
    "new_df = list()\n",
    "stopwords = prep.stopwords('./데이터/stopwords.txt')\n",
    "for video_id in video_on_comments_like_sum:\n",
    "    print(chim_comment_df.loc[chim_comment_df.video_id == video_id[0]].comment.apply(lambda x : prep.text_cleaning(x, stopwords)))"
   ]
  },
  {
   "cell_type": "code",
   "execution_count": null,
   "id": "88f1922e",
   "metadata": {},
   "outputs": [],
   "source": [
    "count = 0\n",
    "text_list = list()\n",
    "string = ''\n",
    "font_path = r'C:/Windows/Fonts/malgun.ttf'\n",
    "youtube_mask = np.array(Image.open('./데이터/youtube_logo.jfif'))\n",
    "new_df = list()\n",
    "\n",
    "for i in range(10):\n",
    "    new_df = pd.read_csv(f'./데이터/test{i}.csv')\n",
    "\n",
    "for comment in new_df.comment.values:\n",
    "    string += ' '.join(comment)\n",
    "text_list.append(string)\n",
    "\n",
    "wc = WordCloud(font_path=font_path, background_color='white', stopwords=['개소리', '존나', '개'], mask=youtube_mask,\n",
    "       max_font_size=30, scale=7).generate(text_list[0])\n",
    "plt.figure(figsize=(10, 5))\n",
    "plt.axis('off')\n",
    "plt.imshow(wc, interpolation='bilinear')\n",
    "plt.show()\n",
    "# wc.to_file(filename=\"침착맨_원피스.png\")"
   ]
  },
  {
   "cell_type": "code",
   "execution_count": null,
   "id": "32733a11",
   "metadata": {},
   "outputs": [],
   "source": [
    "from wordcloud import WordCloud\n",
    "from matplotlib import pyplot as plt\n",
    "\n",
    "from PIL import Image\n",
    "\n",
    "\n",
    "font_path = r'C:/Windows/Fonts/malgun.ttf'\n",
    "\n",
    "youtube_mask = np.array(Image.open('./데이터/youtube_logo.jfif'))\n",
    "\n",
    "wc = WordCloud(font_path=font_path, background_color='white', stopwords=['개소리', '존나', '개'], mask=youtube_mask,\n",
    "               max_font_size=30, scale=7, colors=['red', '']).generate(text_list[0])\n",
    "plt.figure(figsize=(10, 5))\n",
    "plt.axis('off')\n",
    "plt.imshow(wc, interpolation='bilinear')\n",
    "plt.show()\n",
    "# wc.to_file(filename=\"침착맨_복숭아_대전.png\")"
   ]
  },
  {
   "cell_type": "code",
   "execution_count": null,
   "id": "c7beb8cf",
   "metadata": {},
   "outputs": [],
   "source": []
  },
  {
   "cell_type": "code",
   "execution_count": null,
   "id": "904e6aab",
   "metadata": {},
   "outputs": [],
   "source": []
  }
 ],
 "metadata": {
  "kernelspec": {
   "display_name": "Python 3 (ipykernel)",
   "language": "python",
   "name": "python3"
  },
  "language_info": {
   "codemirror_mode": {
    "name": "ipython",
    "version": 3
   },
   "file_extension": ".py",
   "mimetype": "text/x-python",
   "name": "python",
   "nbconvert_exporter": "python",
   "pygments_lexer": "ipython3",
   "version": "3.10.9"
  },
  "vscode": {
   "interpreter": {
    "hash": "a81b4bc3938bd8f3d69751270fa5baefbe4154c7526f8690ed0936808b926fab"
   }
  }
 },
 "nbformat": 4,
 "nbformat_minor": 5
}
