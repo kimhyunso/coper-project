{
 "cells": [
  {
   "cell_type": "code",
   "execution_count": 20,
   "id": "170e7a70",
   "metadata": {},
   "outputs": [
    {
     "ename": "AttributeError",
     "evalue": "'NoneType' object has no attribute 'videos'",
     "output_type": "error",
     "traceback": [
      "\u001b[1;31m---------------------------------------------------------------------------\u001b[0m",
      "\u001b[1;31mAttributeError\u001b[0m                            Traceback (most recent call last)",
      "Cell \u001b[1;32mIn[20], line 9\u001b[0m\n\u001b[0;32m      7\u001b[0m \u001b[38;5;66;03m# YoutbeModule 사용\u001b[39;00m\n\u001b[0;32m      8\u001b[0m bulider \u001b[38;5;241m=\u001b[39m YoutubeBulider(API_KEY)\n\u001b[1;32m----> 9\u001b[0m \u001b[43mbulider\u001b[49m\u001b[38;5;241;43m.\u001b[39;49m\u001b[43mget_videos\u001b[49m\u001b[43m(\u001b[49m\u001b[38;5;124;43m'\u001b[39;49m\u001b[38;5;124;43msnippet\u001b[39;49m\u001b[38;5;124;43m'\u001b[39;49m\u001b[43m,\u001b[49m\u001b[43m \u001b[49m\u001b[38;5;124;43m'\u001b[39;49m\u001b[38;5;124;43mid\u001b[39;49m\u001b[38;5;124;43m'\u001b[39;49m\u001b[43m)\u001b[49m\n",
      "File \u001b[1;32m~\\coper-project\\youtube_module.py:53\u001b[0m, in \u001b[0;36mYoutubeBulider.get_videos\u001b[1;34m(self, chart, regionCode, *part)\u001b[0m\n\u001b[0;32m     41\u001b[0m \u001b[38;5;28;01mdef\u001b[39;00m \u001b[38;5;21mget_videos\u001b[39m(\u001b[38;5;28mself\u001b[39m, chart\u001b[38;5;241m=\u001b[39m\u001b[38;5;124m'\u001b[39m\u001b[38;5;124mmostPopular\u001b[39m\u001b[38;5;124m'\u001b[39m, regionCode\u001b[38;5;241m=\u001b[39m\u001b[38;5;124m'\u001b[39m\u001b[38;5;124mkr\u001b[39m\u001b[38;5;124m'\u001b[39m, \u001b[38;5;241m*\u001b[39mpart) \u001b[38;5;241m-\u001b[39m\u001b[38;5;241m>\u001b[39m \u001b[38;5;28mlist\u001b[39m:\n\u001b[0;32m     42\u001b[0m     \u001b[38;5;124;03m'''\u001b[39;00m\n\u001b[0;32m     43\u001b[0m \u001b[38;5;124;03m    > return list\u001b[39;00m\n\u001b[0;32m     44\u001b[0m \u001b[38;5;124;03m    https://developers.google.com/youtube/v3/docs/videos/list\u001b[39;00m\n\u001b[1;32m   (...)\u001b[0m\n\u001b[0;32m     50\u001b[0m \u001b[38;5;124;03m        response : Videos에서 목록의 쿼리를 날려서 결과를 도출\u001b[39;00m\n\u001b[0;32m     51\u001b[0m \u001b[38;5;124;03m    '''\u001b[39;00m\n\u001b[1;32m---> 53\u001b[0m     \u001b[38;5;28mself\u001b[39m\u001b[38;5;241m.\u001b[39m__response \u001b[38;5;241m=\u001b[39m \u001b[38;5;28mself\u001b[39m\u001b[38;5;241m.\u001b[39mget_youtube()\u001b[38;5;241m.\u001b[39mvideos()\u001b[38;5;241m.\u001b[39mlist(part\u001b[38;5;241m=\u001b[39m\u001b[38;5;124mf\u001b[39m\u001b[38;5;124m'\u001b[39m\u001b[38;5;132;01m{\u001b[39;00mpart[\u001b[38;5;241m0\u001b[39m]\u001b[38;5;132;01m}\u001b[39;00m\u001b[38;5;124m,\u001b[39m\u001b[38;5;132;01m{\u001b[39;00mpart[\u001b[38;5;241m1\u001b[39m]\u001b[38;5;132;01m}\u001b[39;00m\u001b[38;5;124m'\u001b[39m, chart\u001b[38;5;241m=\u001b[39mchart, regionCode\u001b[38;5;241m=\u001b[39mregioneCode)\u001b[38;5;241m.\u001b[39mexecute()\n\u001b[0;32m     54\u001b[0m     \u001b[38;5;28;01mreturn\u001b[39;00m \u001b[38;5;28mself\u001b[39m\u001b[38;5;241m.\u001b[39mget_response()\n",
      "\u001b[1;31mAttributeError\u001b[0m: 'NoneType' object has no attribute 'videos'"
     ]
    }
   ],
   "source": [
    "from youtube_module import YoutubeBulider\n",
    "# KEY 파일로 읽어오기\n",
    "KEY_FILE = open('./API_KEY.txt', 'r')\n",
    "# API_KEY 할당\n",
    "API_KEY = KEY_FILE.readline()\n",
    "\n",
    "# YoutbeModule 사용\n",
    "bulider = YoutubeBulider(API_KEY)\n",
    "bulider.get_videos('snippet', 'id')"
   ]
  },
  {
   "cell_type": "code",
   "execution_count": null,
   "id": "08c033fe",
   "metadata": {},
   "outputs": [],
   "source": []
  }
 ],
 "metadata": {
  "kernelspec": {
   "display_name": "Python 3 (ipykernel)",
   "language": "python",
   "name": "python3"
  },
  "language_info": {
   "codemirror_mode": {
    "name": "ipython",
    "version": 3
   },
   "file_extension": ".py",
   "mimetype": "text/x-python",
   "name": "python",
   "nbconvert_exporter": "python",
   "pygments_lexer": "ipython3",
   "version": "3.10.9"
  }
 },
 "nbformat": 4,
 "nbformat_minor": 5
}
