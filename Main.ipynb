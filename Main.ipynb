{
 "cells": [
  {
   "cell_type": "code",
   "execution_count": 243,
   "id": "428056ef",
   "metadata": {},
   "outputs": [],
   "source": [
    "# YoutubeModule Class\n",
    "from CrawlingModule import YoutubeBuilder\n",
    "import pandas as pd\n",
    "import Preprocessing as prep\n",
    "import numpy as np\n",
    "\n",
    "# KEY 파일로 읽어오기\n",
    "KEY_FILE = open('./API_KEY.txt', 'r')\n",
    "\n",
    "# API_KEY 할당\n",
    "API_KEY = KEY_FILE.readline().split(':')[1]\n",
    "\n",
    "# YoutbeModule Instarnce \n",
    "bulider = YoutubeBuilder(API_KEY)"
   ]
  },
  {
   "cell_type": "code",
   "execution_count": 244,
   "id": "03f8d6e1",
   "metadata": {},
   "outputs": [],
   "source": [
    "# channelId = bulider.search_get_channelId('할명수')\n",
    "# video_id_list = bulider.search_get_videoId_in_channel(channelId=channelId)\n",
    "\n",
    "# video_list = bulider.get_videos_in_videoId_list(videoId_list=video_id_list)"
   ]
  },
  {
   "cell_type": "code",
   "execution_count": 245,
   "id": "6f3c4be0",
   "metadata": {},
   "outputs": [],
   "source": [
    "# comments_list, none_video_id_list = bulider.get_comments(video_id_list)"
   ]
  },
  {
   "cell_type": "code",
   "execution_count": null,
   "id": "e3000bcf",
   "metadata": {},
   "outputs": [],
   "source": [
    "df = pd.DataFrame(video_id_list, columns=['video_id'])\n",
    "(df.video_id.value_counts() > 2).values"
   ]
  },
  {
   "cell_type": "code",
   "execution_count": null,
   "id": "565fd939",
   "metadata": {},
   "outputs": [],
   "source": [
    "# video_id,category_id,category_name,title,views_count,like_count,uploaded_at\n",
    "df = pd.DataFrame(video_list, columns=['video_id', 'category_id', 'category_name', 'title', 'views_count', 'like_count', 'uploaded_at', 'tags'])\n",
    "\n",
    "df.tags = chim_df.tags.apply(lambda x : prep.extract_tags(x, name='#할명수 '))\n",
    "df.uploaded_at = pd.to_datetime(chim_df.uploaded_at)\n",
    "df.to_csv('./데이터/할명수_videos.csv', index=False)"
   ]
  },
  {
   "cell_type": "code",
   "execution_count": null,
   "id": "ff78f1ad",
   "metadata": {},
   "outputs": [],
   "source": [
    "df = pd.DataFrame(comments_list, columns=['video_id', 'comment_id', 'comment', 'like_count', 'created_at', 'updated_at'])\n",
    "df.created_at = pd.to_datetime(df.created_at)\n",
    "df.updated_at = pd.to_datetime(df.updated_at)\n",
    "\n",
    "\n",
    "df.to_csv('./데이터/할명수_comments.csv', index=False)\n",
    "# df.isna().sum()"
   ]
  },
  {
   "cell_type": "code",
   "execution_count": 263,
   "id": "4de00f4c",
   "metadata": {},
   "outputs": [],
   "source": [
    "# df = pd.read_csv('C:/Users/TECH2_06/Downloads/아구이뽀_videos.csv', engine='python', encoding='utf-8')\n",
    "chim_comment_df = pd.read_csv('./데이터/침착맨_comments.csv', encoding='utf-8', engine='python')\n",
    "# df.tags = df.tags.apply(lambda x : prep.extract_tags(x, name='#할명수 '))\n",
    "# df.loc[df.title.apply(prep.extract_tags) != ''].tags = df.loc[df.title.apply(prep.extract_tags) != ''].title.apply(lambda x : prep.extract_tags(x, name='#할명수 #박명수 '))\n",
    "# df.loc[df.title.apply(prep.extract_tags) != ''].tags\n",
    "# df.loc[df.title.apply(prep.extract_tags) != ''].title.apply(lambda x : prep.extract_tags(x, name='#할명수 #박명수 '))\n",
    "# df.tags = df.tags.apply(lambda x : prep.extract_tags(x, name='#슈카월드 '))\n",
    "\n",
    "# df.uploaded_at = pd.to_datetime(df.uploaded_at)\n",
    "\n",
    "# df.to_csv('./데이터/임나은_videos.csv', index=False)\n",
    "\n",
    "# prep.extract_tags(df.iloc[0].tags, name='#짐종국 ')\n",
    "# df.tags = df.tags.apply(lambda x : prep.extract_tags(x))\n",
    "# df.sort_values(by='uploaded_at', ascending=False)"
   ]
  },
  {
   "cell_type": "code",
   "execution_count": 264,
   "id": "5f855be2",
   "metadata": {},
   "outputs": [],
   "source": [
    "import pandas as pd\n",
    "import numpy as np\n",
    "import Preprocessing as prep\n",
    "from konlpy.tag import Twitter\n",
    "from wordcloud import WordCloud\n",
    "from matplotlib import pyplot as plt\n",
    "from PIL import Image\n",
    "from collections import Counter"
   ]
  },
  {
   "cell_type": "code",
   "execution_count": 265,
   "id": "c32c79d6",
   "metadata": {},
   "outputs": [],
   "source": [
    "video_comment_list = list()\n",
    "unique_video_id = chim_comment_df.video_id.unique()\n",
    "\n",
    "video_id_and_count = dict()\n",
    "\n",
    "for video_id in unique_video_id:\n",
    "    video_id_and_count[video_id] = chim_comment_df.loc[chim_comment_df.video_id == video_id].like_count.sum()"
   ]
  },
  {
   "cell_type": "code",
   "execution_count": 266,
   "id": "de01678f",
   "metadata": {},
   "outputs": [
    {
     "data": {
      "text/plain": [
       "[('9LQsLPsKRq8', 249293),\n",
       " ('53XqM_ofaKw', 190531),\n",
       " ('IfOSBmBCWw0', 179334),\n",
       " ('Z1vgOoIuP5M', 178658),\n",
       " ('pkXiOnXAO90', 159794),\n",
       " ('IxaOybVE50Y', 157480),\n",
       " ('hnanNlDbsE4', 157341),\n",
       " ('WeGDixN-u48', 138470),\n",
       " ('V1ryDPaC6mo', 124858),\n",
       " ('SP-LJqVgQuw', 122089)]"
      ]
     },
     "execution_count": 266,
     "metadata": {},
     "output_type": "execute_result"
    }
   ],
   "source": [
    "# 비디오별 댓글 좋아요 수\n",
    "comments_like_sum = sorted(video_id_and_count.items(), key=lambda x:x[1], reverse=True)\n",
    "\n",
    "video_on_comments_like_sum = list()\n",
    "\n",
    "for idx, value in enumerate(comments_like_sum):\n",
    "    if idx == 10:\n",
    "        break\n",
    "    video_on_comments_like_sum.append(value)\n",
    "\n",
    "video_on_comments_like_sum"
   ]
  },
  {
   "cell_type": "code",
   "execution_count": 267,
   "id": "4bf9340c",
   "metadata": {},
   "outputs": [
    {
     "name": "stdout",
     "output_type": "stream",
     "text": [
      "341671                             [진짜, 괴한]\n",
      "341672                                   []\n",
      "341673        [배속, 누가, 생각, 죽겠네, 취한, 소리, 느낌]\n",
      "341674                             [영어, 제목]\n",
      "341675                     [세월, 영상, 벌써, 전이]\n",
      "                        ...                \n",
      "345305                   [오른쪽, 복숭아, 아인, 요물]\n",
      "345306                            [썸네일, 보이]\n",
      "345307                                   []\n",
      "345308    [틀니, 복숭아, 사람, 이빨, 시험, 이빨, 박살, 틀니]\n",
      "345309                                [복숭아]\n",
      "Name: comment, Length: 3639, dtype: object\n",
      "291412                                 [베프]\n",
      "291413    [방장, 이의, 사춘기, 시작, 이제, 만날, 몹시, 읍니]\n",
      "291414                                   []\n",
      "291415                         [초반, 세트, 기네]\n",
      "291416                                   []\n",
      "                        ...                \n",
      "292964                             [사람, 입장]\n",
      "292965                             [인트, 천재]\n",
      "292966                                 [이건]\n",
      "292967                                   []\n",
      "292968                                   []\n",
      "Name: comment, Length: 1557, dtype: object\n",
      "285001        [썸네일]\n",
      "285002           []\n",
      "285003    [진짜, 똘똘하]\n",
      "285004         [힐링]\n",
      "285005           []\n",
      "            ...    \n",
      "286351           []\n",
      "286352       [따끈따끈]\n",
      "286353           []\n",
      "286354        [배불렁]\n",
      "286355           []\n",
      "Name: comment, Length: 1355, dtype: object\n",
      "329844                          [썸네일, 사기]\n",
      "329845                          [진짜, 귀여웡]\n",
      "329846                               [진짜]\n",
      "329847    [그거, 인류, 타임머신, 만들얐, 미래, 지금, 아무]\n",
      "329848                                 []\n",
      "                       ...               \n",
      "331642                              [썸네일]\n",
      "331643                               [사랑]\n",
      "331644                              [썸네일]\n",
      "331645                                 []\n",
      "331646                                 []\n",
      "Name: comment, Length: 1803, dtype: object\n",
      "308365                                    [황혼, 갈기, 무한, 다이노]\n",
      "308366    [계절, 학기, 포켓몬, 자연, 강의, 학생, 재수강, 박사, 포켓볼, 멀리, 던지...\n",
      "308367                                                   []\n",
      "308368                                                   []\n",
      "308369                           [박사, 해박, 지식, 재담, 흥미진진, 보고]\n",
      "                                ...                        \n",
      "310379                                                 [박사]\n",
      "310380                                         [초전, 회수, 쾌감]\n",
      "310381                                                [소영이]\n",
      "310382                                                   []\n",
      "310383                                                   []\n",
      "Name: comment, Length: 2019, dtype: object\n",
      "322274                                  []\n",
      "322275                        [허탈, 체념, 공허]\n",
      "322276                    [침착, 방송, 보리, 능욕]\n",
      "322277    [요즘, 아빠, 구나, 요즘, 등장, 요즘, 영상, 애기]\n",
      "322278                        [진짜, 통닭, 천사]\n",
      "                        ...               \n",
      "323133                                  []\n",
      "323134                    [고난, 주간, 고난, 주간]\n",
      "323135                                  []\n",
      "323136                                  []\n",
      "323137                                  []\n",
      "Name: comment, Length: 864, dtype: object\n",
      "298704    [매직, 황건적, 유비, 등장, 유비, 생김새, 장비, 등장, 관우, 등장, 영웅,...\n",
      "298705                                             [오늘, 분만]\n",
      "298706                                           [반년, 쉬는시간]\n",
      "298707                                             [개학, 진짜]\n",
      "298708                                             [개학, 왓음]\n",
      "                                ...                        \n",
      "307731                                     [연휴, 연차, 크루, 삥뽕]\n",
      "307732                              [연휴, 마무리, 침촉맨, 삼국지, 이건]\n",
      "307733                                             [침착, 계획]\n",
      "307734                                            [마지막, 편성]\n",
      "307735                                                   []\n",
      "Name: comment, Length: 9032, dtype: object\n",
      "277772           [그대로, 얼굴, 초코]\n",
      "277773    [진짜, 머리, 불위, 합성, 이불]\n",
      "277774                      []\n",
      "277775       [아씨, 페라리, 원래, 뭐더]\n",
      "277776          [웃음, 바이러스, 진짜]\n",
      "                  ...         \n",
      "280076                    [침공]\n",
      "280077                    [터졋]\n",
      "280078               [썸네일, 반칙]\n",
      "280079                    [야호]\n",
      "280080                      []\n",
      "Name: comment, Length: 2309, dtype: object\n",
      "131636                                                 [슈가]\n",
      "131637                                    [우지, 원피스, 피토, 설명]\n",
      "131638    [거볼때, 세븐, 그냥, 침투, 여진, 한국인, 아이돌, 애니, 민수, 써클, 차트...\n",
      "131639                                     [우지, 진짜, 리자, 진짜]\n",
      "131640                                     [한번, 집착, 오지, 여자]\n",
      "                                ...                        \n",
      "134471                                         [진짜, 이건, 진짜]\n",
      "134472                                         [듀오, 벌써, 개추]\n",
      "134473                                             [우지, 진짜]\n",
      "134474                                             [홀리, 기대]\n",
      "134475                                      [프로게이머, 섭외, 우지]\n",
      "Name: comment, Length: 2840, dtype: object\n",
      "33997    [영상, 영어, 자막, 화요일, 추가, 예정, 제작, 일정, 영어, 자막, 일찍, ...\n",
      "33998                                                   []\n",
      "33999                                                 [배우]\n",
      "34000                                                 [영어]\n",
      "34001                                                   []\n",
      "                               ...                        \n",
      "37478                                                 [벌써]\n",
      "37479                                                   []\n",
      "37480                                                   []\n",
      "37481                                     [준비, 침착, 함깨, 베이]\n",
      "37482                                                 [절대]\n",
      "Name: comment, Length: 3486, dtype: object\n"
     ]
    }
   ],
   "source": [
    "twitter = Twitter()\n",
    "test_list = []\n",
    "new_df = list()\n",
    "stopwords = prep.stopwords('./데이터/stopwords.txt')\n",
    "for video_id in video_on_comments_like_sum:\n",
    "    print(chim_comment_df.loc[chim_comment_df.video_id == video_id[0]].comment.apply(lambda x : prep.text_cleaning(x, stopwords)))"
   ]
  },
  {
   "cell_type": "code",
   "execution_count": 268,
   "id": "88f1922e",
   "metadata": {},
   "outputs": [
    {
     "ename": "FileNotFoundError",
     "evalue": "[Errno 2] No such file or directory: './데이터/test0.csv'",
     "output_type": "error",
     "traceback": [
      "\u001b[1;31m---------------------------------------------------------------------------\u001b[0m",
      "\u001b[1;31mFileNotFoundError\u001b[0m                         Traceback (most recent call last)",
      "Cell \u001b[1;32mIn[268], line 9\u001b[0m\n\u001b[0;32m      6\u001b[0m new_df \u001b[38;5;241m=\u001b[39m \u001b[38;5;28mlist\u001b[39m()\n\u001b[0;32m      8\u001b[0m \u001b[38;5;28;01mfor\u001b[39;00m i \u001b[38;5;129;01min\u001b[39;00m \u001b[38;5;28mrange\u001b[39m(\u001b[38;5;241m10\u001b[39m):\n\u001b[1;32m----> 9\u001b[0m     new_df \u001b[38;5;241m=\u001b[39m \u001b[43mpd\u001b[49m\u001b[38;5;241;43m.\u001b[39;49m\u001b[43mread_csv\u001b[49m\u001b[43m(\u001b[49m\u001b[38;5;124;43mf\u001b[39;49m\u001b[38;5;124;43m'\u001b[39;49m\u001b[38;5;124;43m./데이터/test\u001b[39;49m\u001b[38;5;132;43;01m{\u001b[39;49;00m\u001b[43mi\u001b[49m\u001b[38;5;132;43;01m}\u001b[39;49;00m\u001b[38;5;124;43m.csv\u001b[39;49m\u001b[38;5;124;43m'\u001b[39;49m\u001b[43m)\u001b[49m\n\u001b[0;32m     11\u001b[0m \u001b[38;5;28;01mfor\u001b[39;00m comment \u001b[38;5;129;01min\u001b[39;00m new_df\u001b[38;5;241m.\u001b[39mcomment\u001b[38;5;241m.\u001b[39mvalues:\n\u001b[0;32m     12\u001b[0m     string \u001b[38;5;241m+\u001b[39m\u001b[38;5;241m=\u001b[39m \u001b[38;5;124m'\u001b[39m\u001b[38;5;124m \u001b[39m\u001b[38;5;124m'\u001b[39m\u001b[38;5;241m.\u001b[39mjoin(comment)\n",
      "File \u001b[1;32m~\\.conda\\envs\\venv\\lib\\site-packages\\pandas\\util\\_decorators.py:211\u001b[0m, in \u001b[0;36mdeprecate_kwarg.<locals>._deprecate_kwarg.<locals>.wrapper\u001b[1;34m(*args, **kwargs)\u001b[0m\n\u001b[0;32m    209\u001b[0m     \u001b[38;5;28;01melse\u001b[39;00m:\n\u001b[0;32m    210\u001b[0m         kwargs[new_arg_name] \u001b[38;5;241m=\u001b[39m new_arg_value\n\u001b[1;32m--> 211\u001b[0m \u001b[38;5;28;01mreturn\u001b[39;00m func(\u001b[38;5;241m*\u001b[39margs, \u001b[38;5;241m*\u001b[39m\u001b[38;5;241m*\u001b[39mkwargs)\n",
      "File \u001b[1;32m~\\.conda\\envs\\venv\\lib\\site-packages\\pandas\\util\\_decorators.py:331\u001b[0m, in \u001b[0;36mdeprecate_nonkeyword_arguments.<locals>.decorate.<locals>.wrapper\u001b[1;34m(*args, **kwargs)\u001b[0m\n\u001b[0;32m    325\u001b[0m \u001b[38;5;28;01mif\u001b[39;00m \u001b[38;5;28mlen\u001b[39m(args) \u001b[38;5;241m>\u001b[39m num_allow_args:\n\u001b[0;32m    326\u001b[0m     warnings\u001b[38;5;241m.\u001b[39mwarn(\n\u001b[0;32m    327\u001b[0m         msg\u001b[38;5;241m.\u001b[39mformat(arguments\u001b[38;5;241m=\u001b[39m_format_argument_list(allow_args)),\n\u001b[0;32m    328\u001b[0m         \u001b[38;5;167;01mFutureWarning\u001b[39;00m,\n\u001b[0;32m    329\u001b[0m         stacklevel\u001b[38;5;241m=\u001b[39mfind_stack_level(),\n\u001b[0;32m    330\u001b[0m     )\n\u001b[1;32m--> 331\u001b[0m \u001b[38;5;28;01mreturn\u001b[39;00m func(\u001b[38;5;241m*\u001b[39margs, \u001b[38;5;241m*\u001b[39m\u001b[38;5;241m*\u001b[39mkwargs)\n",
      "File \u001b[1;32m~\\.conda\\envs\\venv\\lib\\site-packages\\pandas\\io\\parsers\\readers.py:950\u001b[0m, in \u001b[0;36mread_csv\u001b[1;34m(filepath_or_buffer, sep, delimiter, header, names, index_col, usecols, squeeze, prefix, mangle_dupe_cols, dtype, engine, converters, true_values, false_values, skipinitialspace, skiprows, skipfooter, nrows, na_values, keep_default_na, na_filter, verbose, skip_blank_lines, parse_dates, infer_datetime_format, keep_date_col, date_parser, dayfirst, cache_dates, iterator, chunksize, compression, thousands, decimal, lineterminator, quotechar, quoting, doublequote, escapechar, comment, encoding, encoding_errors, dialect, error_bad_lines, warn_bad_lines, on_bad_lines, delim_whitespace, low_memory, memory_map, float_precision, storage_options)\u001b[0m\n\u001b[0;32m    935\u001b[0m kwds_defaults \u001b[38;5;241m=\u001b[39m _refine_defaults_read(\n\u001b[0;32m    936\u001b[0m     dialect,\n\u001b[0;32m    937\u001b[0m     delimiter,\n\u001b[1;32m   (...)\u001b[0m\n\u001b[0;32m    946\u001b[0m     defaults\u001b[38;5;241m=\u001b[39m{\u001b[38;5;124m\"\u001b[39m\u001b[38;5;124mdelimiter\u001b[39m\u001b[38;5;124m\"\u001b[39m: \u001b[38;5;124m\"\u001b[39m\u001b[38;5;124m,\u001b[39m\u001b[38;5;124m\"\u001b[39m},\n\u001b[0;32m    947\u001b[0m )\n\u001b[0;32m    948\u001b[0m kwds\u001b[38;5;241m.\u001b[39mupdate(kwds_defaults)\n\u001b[1;32m--> 950\u001b[0m \u001b[38;5;28;01mreturn\u001b[39;00m \u001b[43m_read\u001b[49m\u001b[43m(\u001b[49m\u001b[43mfilepath_or_buffer\u001b[49m\u001b[43m,\u001b[49m\u001b[43m \u001b[49m\u001b[43mkwds\u001b[49m\u001b[43m)\u001b[49m\n",
      "File \u001b[1;32m~\\.conda\\envs\\venv\\lib\\site-packages\\pandas\\io\\parsers\\readers.py:605\u001b[0m, in \u001b[0;36m_read\u001b[1;34m(filepath_or_buffer, kwds)\u001b[0m\n\u001b[0;32m    602\u001b[0m _validate_names(kwds\u001b[38;5;241m.\u001b[39mget(\u001b[38;5;124m\"\u001b[39m\u001b[38;5;124mnames\u001b[39m\u001b[38;5;124m\"\u001b[39m, \u001b[38;5;28;01mNone\u001b[39;00m))\n\u001b[0;32m    604\u001b[0m \u001b[38;5;66;03m# Create the parser.\u001b[39;00m\n\u001b[1;32m--> 605\u001b[0m parser \u001b[38;5;241m=\u001b[39m TextFileReader(filepath_or_buffer, \u001b[38;5;241m*\u001b[39m\u001b[38;5;241m*\u001b[39mkwds)\n\u001b[0;32m    607\u001b[0m \u001b[38;5;28;01mif\u001b[39;00m chunksize \u001b[38;5;129;01mor\u001b[39;00m iterator:\n\u001b[0;32m    608\u001b[0m     \u001b[38;5;28;01mreturn\u001b[39;00m parser\n",
      "File \u001b[1;32m~\\.conda\\envs\\venv\\lib\\site-packages\\pandas\\io\\parsers\\readers.py:1442\u001b[0m, in \u001b[0;36mTextFileReader.__init__\u001b[1;34m(self, f, engine, **kwds)\u001b[0m\n\u001b[0;32m   1439\u001b[0m     \u001b[38;5;28mself\u001b[39m\u001b[38;5;241m.\u001b[39moptions[\u001b[38;5;124m\"\u001b[39m\u001b[38;5;124mhas_index_names\u001b[39m\u001b[38;5;124m\"\u001b[39m] \u001b[38;5;241m=\u001b[39m kwds[\u001b[38;5;124m\"\u001b[39m\u001b[38;5;124mhas_index_names\u001b[39m\u001b[38;5;124m\"\u001b[39m]\n\u001b[0;32m   1441\u001b[0m \u001b[38;5;28mself\u001b[39m\u001b[38;5;241m.\u001b[39mhandles: IOHandles \u001b[38;5;241m|\u001b[39m \u001b[38;5;28;01mNone\u001b[39;00m \u001b[38;5;241m=\u001b[39m \u001b[38;5;28;01mNone\u001b[39;00m\n\u001b[1;32m-> 1442\u001b[0m \u001b[38;5;28mself\u001b[39m\u001b[38;5;241m.\u001b[39m_engine \u001b[38;5;241m=\u001b[39m \u001b[38;5;28;43mself\u001b[39;49m\u001b[38;5;241;43m.\u001b[39;49m\u001b[43m_make_engine\u001b[49m\u001b[43m(\u001b[49m\u001b[43mf\u001b[49m\u001b[43m,\u001b[49m\u001b[43m \u001b[49m\u001b[38;5;28;43mself\u001b[39;49m\u001b[38;5;241;43m.\u001b[39;49m\u001b[43mengine\u001b[49m\u001b[43m)\u001b[49m\n",
      "File \u001b[1;32m~\\.conda\\envs\\venv\\lib\\site-packages\\pandas\\io\\parsers\\readers.py:1735\u001b[0m, in \u001b[0;36mTextFileReader._make_engine\u001b[1;34m(self, f, engine)\u001b[0m\n\u001b[0;32m   1733\u001b[0m     \u001b[38;5;28;01mif\u001b[39;00m \u001b[38;5;124m\"\u001b[39m\u001b[38;5;124mb\u001b[39m\u001b[38;5;124m\"\u001b[39m \u001b[38;5;129;01mnot\u001b[39;00m \u001b[38;5;129;01min\u001b[39;00m mode:\n\u001b[0;32m   1734\u001b[0m         mode \u001b[38;5;241m+\u001b[39m\u001b[38;5;241m=\u001b[39m \u001b[38;5;124m\"\u001b[39m\u001b[38;5;124mb\u001b[39m\u001b[38;5;124m\"\u001b[39m\n\u001b[1;32m-> 1735\u001b[0m \u001b[38;5;28mself\u001b[39m\u001b[38;5;241m.\u001b[39mhandles \u001b[38;5;241m=\u001b[39m \u001b[43mget_handle\u001b[49m\u001b[43m(\u001b[49m\n\u001b[0;32m   1736\u001b[0m \u001b[43m    \u001b[49m\u001b[43mf\u001b[49m\u001b[43m,\u001b[49m\n\u001b[0;32m   1737\u001b[0m \u001b[43m    \u001b[49m\u001b[43mmode\u001b[49m\u001b[43m,\u001b[49m\n\u001b[0;32m   1738\u001b[0m \u001b[43m    \u001b[49m\u001b[43mencoding\u001b[49m\u001b[38;5;241;43m=\u001b[39;49m\u001b[38;5;28;43mself\u001b[39;49m\u001b[38;5;241;43m.\u001b[39;49m\u001b[43moptions\u001b[49m\u001b[38;5;241;43m.\u001b[39;49m\u001b[43mget\u001b[49m\u001b[43m(\u001b[49m\u001b[38;5;124;43m\"\u001b[39;49m\u001b[38;5;124;43mencoding\u001b[39;49m\u001b[38;5;124;43m\"\u001b[39;49m\u001b[43m,\u001b[49m\u001b[43m \u001b[49m\u001b[38;5;28;43;01mNone\u001b[39;49;00m\u001b[43m)\u001b[49m\u001b[43m,\u001b[49m\n\u001b[0;32m   1739\u001b[0m \u001b[43m    \u001b[49m\u001b[43mcompression\u001b[49m\u001b[38;5;241;43m=\u001b[39;49m\u001b[38;5;28;43mself\u001b[39;49m\u001b[38;5;241;43m.\u001b[39;49m\u001b[43moptions\u001b[49m\u001b[38;5;241;43m.\u001b[39;49m\u001b[43mget\u001b[49m\u001b[43m(\u001b[49m\u001b[38;5;124;43m\"\u001b[39;49m\u001b[38;5;124;43mcompression\u001b[39;49m\u001b[38;5;124;43m\"\u001b[39;49m\u001b[43m,\u001b[49m\u001b[43m \u001b[49m\u001b[38;5;28;43;01mNone\u001b[39;49;00m\u001b[43m)\u001b[49m\u001b[43m,\u001b[49m\n\u001b[0;32m   1740\u001b[0m \u001b[43m    \u001b[49m\u001b[43mmemory_map\u001b[49m\u001b[38;5;241;43m=\u001b[39;49m\u001b[38;5;28;43mself\u001b[39;49m\u001b[38;5;241;43m.\u001b[39;49m\u001b[43moptions\u001b[49m\u001b[38;5;241;43m.\u001b[39;49m\u001b[43mget\u001b[49m\u001b[43m(\u001b[49m\u001b[38;5;124;43m\"\u001b[39;49m\u001b[38;5;124;43mmemory_map\u001b[39;49m\u001b[38;5;124;43m\"\u001b[39;49m\u001b[43m,\u001b[49m\u001b[43m \u001b[49m\u001b[38;5;28;43;01mFalse\u001b[39;49;00m\u001b[43m)\u001b[49m\u001b[43m,\u001b[49m\n\u001b[0;32m   1741\u001b[0m \u001b[43m    \u001b[49m\u001b[43mis_text\u001b[49m\u001b[38;5;241;43m=\u001b[39;49m\u001b[43mis_text\u001b[49m\u001b[43m,\u001b[49m\n\u001b[0;32m   1742\u001b[0m \u001b[43m    \u001b[49m\u001b[43merrors\u001b[49m\u001b[38;5;241;43m=\u001b[39;49m\u001b[38;5;28;43mself\u001b[39;49m\u001b[38;5;241;43m.\u001b[39;49m\u001b[43moptions\u001b[49m\u001b[38;5;241;43m.\u001b[39;49m\u001b[43mget\u001b[49m\u001b[43m(\u001b[49m\u001b[38;5;124;43m\"\u001b[39;49m\u001b[38;5;124;43mencoding_errors\u001b[39;49m\u001b[38;5;124;43m\"\u001b[39;49m\u001b[43m,\u001b[49m\u001b[43m \u001b[49m\u001b[38;5;124;43m\"\u001b[39;49m\u001b[38;5;124;43mstrict\u001b[39;49m\u001b[38;5;124;43m\"\u001b[39;49m\u001b[43m)\u001b[49m\u001b[43m,\u001b[49m\n\u001b[0;32m   1743\u001b[0m \u001b[43m    \u001b[49m\u001b[43mstorage_options\u001b[49m\u001b[38;5;241;43m=\u001b[39;49m\u001b[38;5;28;43mself\u001b[39;49m\u001b[38;5;241;43m.\u001b[39;49m\u001b[43moptions\u001b[49m\u001b[38;5;241;43m.\u001b[39;49m\u001b[43mget\u001b[49m\u001b[43m(\u001b[49m\u001b[38;5;124;43m\"\u001b[39;49m\u001b[38;5;124;43mstorage_options\u001b[39;49m\u001b[38;5;124;43m\"\u001b[39;49m\u001b[43m,\u001b[49m\u001b[43m \u001b[49m\u001b[38;5;28;43;01mNone\u001b[39;49;00m\u001b[43m)\u001b[49m\u001b[43m,\u001b[49m\n\u001b[0;32m   1744\u001b[0m \u001b[43m\u001b[49m\u001b[43m)\u001b[49m\n\u001b[0;32m   1745\u001b[0m \u001b[38;5;28;01massert\u001b[39;00m \u001b[38;5;28mself\u001b[39m\u001b[38;5;241m.\u001b[39mhandles \u001b[38;5;129;01mis\u001b[39;00m \u001b[38;5;129;01mnot\u001b[39;00m \u001b[38;5;28;01mNone\u001b[39;00m\n\u001b[0;32m   1746\u001b[0m f \u001b[38;5;241m=\u001b[39m \u001b[38;5;28mself\u001b[39m\u001b[38;5;241m.\u001b[39mhandles\u001b[38;5;241m.\u001b[39mhandle\n",
      "File \u001b[1;32m~\\.conda\\envs\\venv\\lib\\site-packages\\pandas\\io\\common.py:856\u001b[0m, in \u001b[0;36mget_handle\u001b[1;34m(path_or_buf, mode, encoding, compression, memory_map, is_text, errors, storage_options)\u001b[0m\n\u001b[0;32m    851\u001b[0m \u001b[38;5;28;01melif\u001b[39;00m \u001b[38;5;28misinstance\u001b[39m(handle, \u001b[38;5;28mstr\u001b[39m):\n\u001b[0;32m    852\u001b[0m     \u001b[38;5;66;03m# Check whether the filename is to be opened in binary mode.\u001b[39;00m\n\u001b[0;32m    853\u001b[0m     \u001b[38;5;66;03m# Binary mode does not support 'encoding' and 'newline'.\u001b[39;00m\n\u001b[0;32m    854\u001b[0m     \u001b[38;5;28;01mif\u001b[39;00m ioargs\u001b[38;5;241m.\u001b[39mencoding \u001b[38;5;129;01mand\u001b[39;00m \u001b[38;5;124m\"\u001b[39m\u001b[38;5;124mb\u001b[39m\u001b[38;5;124m\"\u001b[39m \u001b[38;5;129;01mnot\u001b[39;00m \u001b[38;5;129;01min\u001b[39;00m ioargs\u001b[38;5;241m.\u001b[39mmode:\n\u001b[0;32m    855\u001b[0m         \u001b[38;5;66;03m# Encoding\u001b[39;00m\n\u001b[1;32m--> 856\u001b[0m         handle \u001b[38;5;241m=\u001b[39m \u001b[38;5;28;43mopen\u001b[39;49m\u001b[43m(\u001b[49m\n\u001b[0;32m    857\u001b[0m \u001b[43m            \u001b[49m\u001b[43mhandle\u001b[49m\u001b[43m,\u001b[49m\n\u001b[0;32m    858\u001b[0m \u001b[43m            \u001b[49m\u001b[43mioargs\u001b[49m\u001b[38;5;241;43m.\u001b[39;49m\u001b[43mmode\u001b[49m\u001b[43m,\u001b[49m\n\u001b[0;32m    859\u001b[0m \u001b[43m            \u001b[49m\u001b[43mencoding\u001b[49m\u001b[38;5;241;43m=\u001b[39;49m\u001b[43mioargs\u001b[49m\u001b[38;5;241;43m.\u001b[39;49m\u001b[43mencoding\u001b[49m\u001b[43m,\u001b[49m\n\u001b[0;32m    860\u001b[0m \u001b[43m            \u001b[49m\u001b[43merrors\u001b[49m\u001b[38;5;241;43m=\u001b[39;49m\u001b[43merrors\u001b[49m\u001b[43m,\u001b[49m\n\u001b[0;32m    861\u001b[0m \u001b[43m            \u001b[49m\u001b[43mnewline\u001b[49m\u001b[38;5;241;43m=\u001b[39;49m\u001b[38;5;124;43m\"\u001b[39;49m\u001b[38;5;124;43m\"\u001b[39;49m\u001b[43m,\u001b[49m\n\u001b[0;32m    862\u001b[0m \u001b[43m        \u001b[49m\u001b[43m)\u001b[49m\n\u001b[0;32m    863\u001b[0m     \u001b[38;5;28;01melse\u001b[39;00m:\n\u001b[0;32m    864\u001b[0m         \u001b[38;5;66;03m# Binary mode\u001b[39;00m\n\u001b[0;32m    865\u001b[0m         handle \u001b[38;5;241m=\u001b[39m \u001b[38;5;28mopen\u001b[39m(handle, ioargs\u001b[38;5;241m.\u001b[39mmode)\n",
      "\u001b[1;31mFileNotFoundError\u001b[0m: [Errno 2] No such file or directory: './데이터/test0.csv'"
     ]
    }
   ],
   "source": [
    "count = 0\n",
    "text_list = list()\n",
    "string = ''\n",
    "font_path = r'C:/Windows/Fonts/malgun.ttf'\n",
    "youtube_mask = np.array(Image.open('./데이터/youtube_logo.jfif'))\n",
    "new_df = list()\n",
    "\n",
    "for i in range(10):\n",
    "    new_df = pd.read_csv(f'./데이터/test{i}.csv')\n",
    "\n",
    "for comment in new_df.comment.values:\n",
    "    string += ' '.join(comment)\n",
    "text_list.append(string)\n",
    "\n",
    "wc = WordCloud(font_path=font_path, background_color='white', stopwords=['개소리', '존나', '개'], mask=youtube_mask,\n",
    "       max_font_size=30, scale=7).generate(text_list[0])\n",
    "plt.figure(figsize=(10, 5))\n",
    "plt.axis('off')\n",
    "plt.imshow(wc, interpolation='bilinear')\n",
    "plt.show()\n",
    "# wc.to_file(filename=\"침착맨_원피스.png\")"
   ]
  },
  {
   "cell_type": "code",
   "execution_count": null,
   "id": "32733a11",
   "metadata": {},
   "outputs": [],
   "source": [
    "from wordcloud import WordCloud\n",
    "from matplotlib import pyplot as plt\n",
    "\n",
    "from PIL import Image\n",
    "\n",
    "\n",
    "font_path = r'C:/Windows/Fonts/malgun.ttf'\n",
    "\n",
    "youtube_mask = np.array(Image.open('./데이터/youtube_logo.jfif'))\n",
    "\n",
    "wc = WordCloud(font_path=font_path, background_color='white', stopwords=['개소리', '존나', '개'], mask=youtube_mask,\n",
    "               max_font_size=30, scale=7, colors=['red', '']).generate(text_list[0])\n",
    "plt.figure(figsize=(10, 5))\n",
    "plt.axis('off')\n",
    "plt.imshow(wc, interpolation='bilinear')\n",
    "plt.show()\n",
    "# wc.to_file(filename=\"침착맨_복숭아_대전.png\")"
   ]
  },
  {
   "cell_type": "code",
   "execution_count": null,
   "id": "c7beb8cf",
   "metadata": {},
   "outputs": [],
   "source": []
  },
  {
   "cell_type": "code",
   "execution_count": null,
   "id": "904e6aab",
   "metadata": {},
   "outputs": [],
   "source": []
  }
 ],
 "metadata": {
  "kernelspec": {
   "display_name": "Python 3 (ipykernel)",
   "language": "python",
   "name": "python3"
  },
  "language_info": {
   "codemirror_mode": {
    "name": "ipython",
    "version": 3
   },
   "file_extension": ".py",
   "mimetype": "text/x-python",
   "name": "python",
   "nbconvert_exporter": "python",
   "pygments_lexer": "ipython3",
   "version": "3.10.9"
  },
  "vscode": {
   "interpreter": {
    "hash": "a81b4bc3938bd8f3d69751270fa5baefbe4154c7526f8690ed0936808b926fab"
   }
  }
 },
 "nbformat": 4,
 "nbformat_minor": 5
}
