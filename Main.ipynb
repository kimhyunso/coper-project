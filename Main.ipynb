{
 "cells": [
  {
   "cell_type": "code",
   "execution_count": 1,
   "id": "428056ef",
   "metadata": {},
   "outputs": [],
   "source": [
    "# YoutubeModule Class\n",
    "from CrawlingModule import YoutubeBulider\n",
    "# KEY 파일로 읽어오기\n",
    "KEY_FILE = open('./API_KEY.txt', 'r')\n",
    "# API_KEY 할당\n",
    "API_KEY = KEY_FILE.readline().split('-')[1]\n",
    "\n",
    "# YoutbeModule Instarnce \n",
    "bulider = YoutubeBulider(API_KEY)\n",
    "\n",
    "channelId = bulider.search_channelId('김성회의 G식백과')\n",
    "\n",
    "video_id_list = bulider.get_videoId_in_channel(channelId=channelId)"
   ]
  },
  {
   "cell_type": "code",
   "execution_count": 2,
   "id": "baf51e2f",
   "metadata": {},
   "outputs": [],
   "source": [
    "import pandas as pd"
   ]
  },
  {
   "cell_type": "code",
   "execution_count": 3,
   "id": "f819d27a",
   "metadata": {},
   "outputs": [],
   "source": [
    "videos_list = bulider.get_categoryId_in_channel(videoId_list=video_id_list)"
   ]
  },
  {
   "cell_type": "code",
   "execution_count": 5,
   "id": "6f3c4be0",
   "metadata": {},
   "outputs": [],
   "source": [
    "comments_list = bulider.get_comments(video_id_list)"
   ]
  },
  {
   "cell_type": "code",
   "execution_count": 13,
   "id": "c53fef7c",
   "metadata": {},
   "outputs": [],
   "source": [
    "df = pd.DataFrame(data=videos_list, columns=['video_id', 'category_id', 'category_name', 'title', 'views_count', 'like_count', 'created_at'])\n",
    "df.created_at = pd.to_datetime(df.created_at)\n",
    "\n",
    "df.to_csv('./김성회의_G식백과_videos.csv', index=False)"
   ]
  },
  {
   "cell_type": "code",
   "execution_count": null,
   "id": "f33d413b",
   "metadata": {},
   "outputs": [],
   "source": []
  },
  {
   "cell_type": "code",
   "execution_count": null,
   "id": "565fd939",
   "metadata": {},
   "outputs": [],
   "source": []
  }
 ],
 "metadata": {
  "kernelspec": {
   "display_name": "Python 3",
   "language": "python",
   "name": "python3"
  },
  "language_info": {
   "codemirror_mode": {
    "name": "ipython",
    "version": 3
   },
   "file_extension": ".py",
   "mimetype": "text/x-python",
   "name": "python",
   "nbconvert_exporter": "python",
   "pygments_lexer": "ipython3",
   "version": "3.10.9"
  },
  "vscode": {
   "interpreter": {
    "hash": "a81b4bc3938bd8f3d69751270fa5baefbe4154c7526f8690ed0936808b926fab"
   }
  }
 },
 "nbformat": 4,
 "nbformat_minor": 5
}
