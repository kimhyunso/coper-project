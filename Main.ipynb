{
 "cells": [
  {
   "cell_type": "code",
   "execution_count": 1,
   "id": "428056ef",
   "metadata": {},
   "outputs": [],
   "source": [
    "# YoutubeModule Class\n",
    "from CrawlingModule import YoutubeBulider\n",
    "# KEY 파일로 읽어오기\n",
    "KEY_FILE = open('./API_KEY.txt', 'r')\n",
    "# API_KEY 할당\n",
    "API_KEY = KEY_FILE.readline().split('-')[1]\n",
    "\n",
    "# YoutbeModule Instarnce \n",
    "bulider = YoutubeBulider(API_KEY)\n",
    "\n",
    "channelId = bulider.search_channelId('침착맨')\n",
    "\n",
    "video_id_list = bulider.get_videoId_in_channel(channelId=channelId)"
   ]
  },
  {
   "cell_type": "code",
   "execution_count": 2,
   "id": "f819d27a",
   "metadata": {},
   "outputs": [],
   "source": [
    "videos_list = bulider.get_categoryId_in_channel(videoId_list=video_id_list)"
   ]
  },
  {
   "cell_type": "code",
   "execution_count": 57,
   "id": "b627212c",
   "metadata": {},
   "outputs": [],
   "source": []
  },
  {
   "cell_type": "code",
   "execution_count": 4,
   "id": "6f3c4be0",
   "metadata": {},
   "outputs": [],
   "source": [
    "# comments_list = bulider.get_comments(video_id_list)"
   ]
  },
  {
   "cell_type": "code",
   "execution_count": 5,
   "id": "565fd939",
   "metadata": {},
   "outputs": [],
   "source": [
    "# import pandas as pd\n",
    "\n",
    "# # video_id,category_id,category_name,title,views_count,like_count,created_at\n",
    "# chim_df = pd.DataFrame(videos_list, columns=['video_id', 'category_id', 'category_name', 'title', 'views_count', 'like_count', 'created_at'])\n",
    "\n",
    "# chim_df.created_at = pd.to_datetime(chim_df.created_at)\n",
    "# # df.to_csv('./데이터/침착맨_videos.csv', index=False)\n"
   ]
  },
  {
   "cell_type": "code",
   "execution_count": null,
   "id": "9eeb2786",
   "metadata": {},
   "outputs": [],
   "source": [
    "import pandas as pd\n",
    "chim_df = pd.read_csv('./데이터/침착맨_videos.csv', encoding='utf-8', engine='python')\n",
    "chim_df.uploaded_at = pd.to_datetime(chim_df.uploaded_at)\n",
    "chim_df.sort_values(by='views_count', ascending=False).head(10)\n",
    "# chim_df.sort_values(by='like_count', ascending=False).head(10)\n"
   ]
  },
  {
   "cell_type": "code",
   "execution_count": null,
   "id": "ded0bfb3",
   "metadata": {},
   "outputs": [],
   "source": [
    "import seaborn as sns\n",
    "import matplotlib.pyplot as plt\n",
    "\n",
    "sns.set_theme()\n",
    "\n",
    "plt.rcParams['figure.figsize'] = (11, 7)\n",
    "\n",
    "sns.lineplot(x=chim_df.uploaded_at, y=chim_df.views_count)\n",
    "plt.show()"
   ]
  },
  {
   "cell_type": "code",
   "execution_count": null,
   "id": "7e32ad7a",
   "metadata": {},
   "outputs": [],
   "source": [
    "sns.lineplot(x=chim_df.uploaded_at, y=chim_df.sort_values(by='views_count', ascending=False).loc[chim_df.uploaded_at.dt.year == 2022].views_count)\n",
    "plt.show()"
   ]
  },
  {
   "cell_type": "code",
   "execution_count": null,
   "id": "4406ee9b",
   "metadata": {},
   "outputs": [],
   "source": [
    "chim_df.sort_values(by='views_count', ascending=False).loc[(chim_df.uploaded_at.dt.year == 2022)].head(15)"
   ]
  },
  {
   "cell_type": "code",
   "execution_count": null,
   "id": "c4d5ed6b",
   "metadata": {},
   "outputs": [],
   "source": [
    "sns.lineplot(x=chim_df.created_at, y=chim_df.sort_values(by='views_count', ascending=False).loc[chim_df.uploaded_at.dt.year == 2023].views_count)\n",
    "plt.show()"
   ]
  },
  {
   "cell_type": "code",
   "execution_count": null,
   "id": "33c551ed",
   "metadata": {},
   "outputs": [],
   "source": [
    "chim_df.sort_values(by='views_count', ascending=False).loc[chim_df.uploaded_at.dt.year == 2023].head(10)"
   ]
  },
  {
   "cell_type": "code",
   "execution_count": null,
   "id": "96a0a80f",
   "metadata": {},
   "outputs": [],
   "source": []
  }
 ],
 "metadata": {
  "kernelspec": {
   "display_name": "Python 3",
   "language": "python",
   "name": "python3"
  },
  "language_info": {
   "codemirror_mode": {
    "name": "ipython",
    "version": 3
   },
   "file_extension": ".py",
   "mimetype": "text/x-python",
   "name": "python",
   "nbconvert_exporter": "python",
   "pygments_lexer": "ipython3",
   "version": "3.10.9"
  },
  "vscode": {
   "interpreter": {
    "hash": "a81b4bc3938bd8f3d69751270fa5baefbe4154c7526f8690ed0936808b926fab"
   }
  }
 },
 "nbformat": 4,
 "nbformat_minor": 5
}
