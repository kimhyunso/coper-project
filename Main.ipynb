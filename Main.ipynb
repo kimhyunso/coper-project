{
 "cells": [
  {
   "cell_type": "code",
   "execution_count": 7,
   "id": "428056ef",
   "metadata": {},
   "outputs": [],
   "source": [
    "# 딱 한번만 돌릴것\n",
    "from CrawlingModule import YoutubeBulider\n",
    "# KEY 파일로 읽어오기\n",
    "KEY_FILE = open('./API_KEY.txt', 'r')\n",
    "# API_KEY 할당\n",
    "API_KEY = KEY_FILE.readline()\n",
    "\n",
    "# YoutbeModule 사용\n",
    "bulider = YoutubeBulider(API_KEY)\n",
    "\n",
    "channelId = bulider.search_channelId('김성회의 G식백과')\n",
    "video_id_list = bulider.get_videoId_in_channel(channelId=channelId)"
   ]
  },
  {
   "cell_type": "code",
   "execution_count": 8,
   "id": "baf51e2f",
   "metadata": {},
   "outputs": [],
   "source": [
    "import pandas as pd"
   ]
  },
  {
   "cell_type": "code",
   "execution_count": 9,
   "id": "f819d27a",
   "metadata": {},
   "outputs": [
    {
     "ename": "TypeError",
     "evalue": "list.append() takes exactly one argument (2 given)",
     "output_type": "error",
     "traceback": [
      "\u001b[1;31m---------------------------------------------------------------------------\u001b[0m",
      "\u001b[1;31mTypeError\u001b[0m                                 Traceback (most recent call last)",
      "Cell \u001b[1;32mIn[9], line 1\u001b[0m\n\u001b[1;32m----> 1\u001b[0m category_id_list, view_count_list \u001b[39m=\u001b[39m bulider\u001b[39m.\u001b[39;49mget_categoryId_in_channel(videoId_list\u001b[39m=\u001b[39;49mvideo_id_list)\n",
      "File \u001b[1;32mc:\\Users\\TECH2_06\\coper-project\\CrawlingModule.py:86\u001b[0m, in \u001b[0;36mYoutubeBulider.get_categoryId_in_channel\u001b[1;34m(self, videoId_list, regionCode, maxResults)\u001b[0m\n\u001b[0;32m     84\u001b[0m         \u001b[39mfor\u001b[39;00m item \u001b[39min\u001b[39;00m \u001b[39mself\u001b[39m\u001b[39m.\u001b[39m__response[\u001b[39m'\u001b[39m\u001b[39mitems\u001b[39m\u001b[39m'\u001b[39m]:\n\u001b[0;32m     85\u001b[0m             \u001b[39mself\u001b[39m\u001b[39m.\u001b[39m__category_list\u001b[39m.\u001b[39mappend(item[\u001b[39m'\u001b[39m\u001b[39msnippet\u001b[39m\u001b[39m'\u001b[39m][\u001b[39m'\u001b[39m\u001b[39mcategoryId\u001b[39m\u001b[39m'\u001b[39m])\n\u001b[1;32m---> 86\u001b[0m             \u001b[39mself\u001b[39;49m\u001b[39m.\u001b[39;49m__views_count_list\u001b[39m.\u001b[39;49mappend(videoId, [item[\u001b[39m'\u001b[39;49m\u001b[39mstatistics\u001b[39;49m\u001b[39m'\u001b[39;49m][\u001b[39m'\u001b[39;49m\u001b[39mviewCount\u001b[39;49m\u001b[39m'\u001b[39;49m], item[\u001b[39m'\u001b[39;49m\u001b[39mstatistics\u001b[39;49m\u001b[39m'\u001b[39;49m][\u001b[39m'\u001b[39;49m\u001b[39mlikeCount\u001b[39;49m\u001b[39m'\u001b[39;49m]])\n\u001b[0;32m     87\u001b[0m         \u001b[39mbreak\u001b[39;00m\n\u001b[0;32m     89\u001b[0m \u001b[39mreturn\u001b[39;00m \u001b[39mself\u001b[39m\u001b[39m.\u001b[39m__category_list, \u001b[39mself\u001b[39m\u001b[39m.\u001b[39m__views_count_list\n",
      "\u001b[1;31mTypeError\u001b[0m: list.append() takes exactly one argument (2 given)"
     ]
    }
   ],
   "source": [
    "category_id_list, view_count_list = bulider.get_categoryId_in_channel(videoId_list=video_id_list)"
   ]
  },
  {
   "cell_type": "code",
   "execution_count": 10,
   "id": "0c792dff",
   "metadata": {},
   "outputs": [
    {
     "data": {
      "text/html": [
       "<div>\n",
       "<style scoped>\n",
       "    .dataframe tbody tr th:only-of-type {\n",
       "        vertical-align: middle;\n",
       "    }\n",
       "\n",
       "    .dataframe tbody tr th {\n",
       "        vertical-align: top;\n",
       "    }\n",
       "\n",
       "    .dataframe thead th {\n",
       "        text-align: right;\n",
       "    }\n",
       "</style>\n",
       "<table border=\"1\" class=\"dataframe\">\n",
       "  <thead>\n",
       "    <tr style=\"text-align: right;\">\n",
       "      <th></th>\n",
       "      <th>view_count</th>\n",
       "      <th>like_count</th>\n",
       "    </tr>\n",
       "  </thead>\n",
       "  <tbody>\n",
       "    <tr>\n",
       "      <th>0</th>\n",
       "      <td>761102</td>\n",
       "      <td>9227</td>\n",
       "    </tr>\n",
       "    <tr>\n",
       "      <th>1</th>\n",
       "      <td>605330</td>\n",
       "      <td>8244</td>\n",
       "    </tr>\n",
       "    <tr>\n",
       "      <th>2</th>\n",
       "      <td>168117</td>\n",
       "      <td>3969</td>\n",
       "    </tr>\n",
       "    <tr>\n",
       "      <th>3</th>\n",
       "      <td>58431</td>\n",
       "      <td>528</td>\n",
       "    </tr>\n",
       "    <tr>\n",
       "      <th>4</th>\n",
       "      <td>38362</td>\n",
       "      <td>477</td>\n",
       "    </tr>\n",
       "    <tr>\n",
       "      <th>...</th>\n",
       "      <td>...</td>\n",
       "      <td>...</td>\n",
       "    </tr>\n",
       "    <tr>\n",
       "      <th>295</th>\n",
       "      <td>638938</td>\n",
       "      <td>9629</td>\n",
       "    </tr>\n",
       "    <tr>\n",
       "      <th>296</th>\n",
       "      <td>118602</td>\n",
       "      <td>2600</td>\n",
       "    </tr>\n",
       "    <tr>\n",
       "      <th>297</th>\n",
       "      <td>514631</td>\n",
       "      <td>6606</td>\n",
       "    </tr>\n",
       "    <tr>\n",
       "      <th>298</th>\n",
       "      <td>234568</td>\n",
       "      <td>3284</td>\n",
       "    </tr>\n",
       "    <tr>\n",
       "      <th>299</th>\n",
       "      <td>253118</td>\n",
       "      <td>4469</td>\n",
       "    </tr>\n",
       "  </tbody>\n",
       "</table>\n",
       "<p>300 rows × 2 columns</p>\n",
       "</div>"
      ],
      "text/plain": [
       "    view_count like_count\n",
       "0       761102       9227\n",
       "1       605330       8244\n",
       "2       168117       3969\n",
       "3        58431        528\n",
       "4        38362        477\n",
       "..         ...        ...\n",
       "295     638938       9629\n",
       "296     118602       2600\n",
       "297     514631       6606\n",
       "298     234568       3284\n",
       "299     253118       4469\n",
       "\n",
       "[300 rows x 2 columns]"
      ]
     },
     "execution_count": 10,
     "metadata": {},
     "output_type": "execute_result"
    }
   ],
   "source": [
    "df = pd.DataFrame(view_count_list, columns=['video_id', 'view_count', 'like_count'])\n",
    "df"
   ]
  },
  {
   "cell_type": "code",
   "execution_count": 181,
   "id": "022e886f",
   "metadata": {},
   "outputs": [],
   "source": [
    "df = pd.DataFrame(\n",
    "    {\n",
    "        'video_id' : video_list, \n",
    "        'category_id' : list(map(int, category_id_list)),\n",
    "    }\n",
    ")\n",
    "# df.category_id = df.category_id.astype(int)\n"
   ]
  },
  {
   "cell_type": "code",
   "execution_count": 217,
   "id": "6f3c4be0",
   "metadata": {},
   "outputs": [],
   "source": [
    "infile = open('./category_id_list.txt', 'r').readlines()\n",
    "\n",
    "key_value_dict = {}\n",
    "\n",
    "for line in infile:\n",
    "    key_value_list = line.split(' - ')\n",
    "    key_value_dict[int(key_value_list[0])] = key_value_list[1][:-1]\n",
    "\n",
    "\n",
    "df['category_name'] = df.category_id.apply(lambda x : key_value_dict[x])"
   ]
  },
  {
   "cell_type": "code",
   "execution_count": 219,
   "id": "daa9daac",
   "metadata": {},
   "outputs": [],
   "source": [
    "df.to_csv('./데이터/videoId_and_categoryId_lists.csv', index=False)"
   ]
  },
  {
   "cell_type": "code",
   "execution_count": 60,
   "id": "bdb26ee8",
   "metadata": {},
   "outputs": [
    {
     "data": {
      "text/html": [
       "<div>\n",
       "<style scoped>\n",
       "    .dataframe tbody tr th:only-of-type {\n",
       "        vertical-align: middle;\n",
       "    }\n",
       "\n",
       "    .dataframe tbody tr th {\n",
       "        vertical-align: top;\n",
       "    }\n",
       "\n",
       "    .dataframe thead th {\n",
       "        text-align: right;\n",
       "    }\n",
       "</style>\n",
       "<table border=\"1\" class=\"dataframe\">\n",
       "  <thead>\n",
       "    <tr style=\"text-align: right;\">\n",
       "      <th></th>\n",
       "      <th>video_id</th>\n",
       "      <th>category_id</th>\n",
       "      <th>category_name</th>\n",
       "    </tr>\n",
       "  </thead>\n",
       "  <tbody>\n",
       "    <tr>\n",
       "      <th>0</th>\n",
       "      <td>Ynwm92g2hxQ</td>\n",
       "      <td>20</td>\n",
       "      <td>20</td>\n",
       "    </tr>\n",
       "    <tr>\n",
       "      <th>1</th>\n",
       "      <td>a4abVmaMj5A</td>\n",
       "      <td>20</td>\n",
       "      <td>20</td>\n",
       "    </tr>\n",
       "    <tr>\n",
       "      <th>2</th>\n",
       "      <td>TUTMzIP_Mv0</td>\n",
       "      <td>20</td>\n",
       "      <td>20</td>\n",
       "    </tr>\n",
       "    <tr>\n",
       "      <th>3</th>\n",
       "      <td>zrN-ybe49lg</td>\n",
       "      <td>20</td>\n",
       "      <td>20</td>\n",
       "    </tr>\n",
       "    <tr>\n",
       "      <th>4</th>\n",
       "      <td>PuRqyxLxTTc</td>\n",
       "      <td>20</td>\n",
       "      <td>20</td>\n",
       "    </tr>\n",
       "    <tr>\n",
       "      <th>...</th>\n",
       "      <td>...</td>\n",
       "      <td>...</td>\n",
       "      <td>...</td>\n",
       "    </tr>\n",
       "    <tr>\n",
       "      <th>95</th>\n",
       "      <td>u9zKB3s-R1A</td>\n",
       "      <td>20</td>\n",
       "      <td>20</td>\n",
       "    </tr>\n",
       "    <tr>\n",
       "      <th>96</th>\n",
       "      <td>De0mePZH0rI</td>\n",
       "      <td>20</td>\n",
       "      <td>20</td>\n",
       "    </tr>\n",
       "    <tr>\n",
       "      <th>97</th>\n",
       "      <td>Bb43QlfkCAE</td>\n",
       "      <td>20</td>\n",
       "      <td>20</td>\n",
       "    </tr>\n",
       "    <tr>\n",
       "      <th>98</th>\n",
       "      <td>wEa_8r0R3P8</td>\n",
       "      <td>20</td>\n",
       "      <td>20</td>\n",
       "    </tr>\n",
       "    <tr>\n",
       "      <th>99</th>\n",
       "      <td>Snk1G2woxNo</td>\n",
       "      <td>20</td>\n",
       "      <td>20</td>\n",
       "    </tr>\n",
       "  </tbody>\n",
       "</table>\n",
       "<p>100 rows × 3 columns</p>\n",
       "</div>"
      ],
      "text/plain": [
       "       video_id  category_id  category_name\n",
       "0   Ynwm92g2hxQ           20             20\n",
       "1   a4abVmaMj5A           20             20\n",
       "2   TUTMzIP_Mv0           20             20\n",
       "3   zrN-ybe49lg           20             20\n",
       "4   PuRqyxLxTTc           20             20\n",
       "..          ...          ...            ...\n",
       "95  u9zKB3s-R1A           20             20\n",
       "96  De0mePZH0rI           20             20\n",
       "97  Bb43QlfkCAE           20             20\n",
       "98  wEa_8r0R3P8           20             20\n",
       "99  Snk1G2woxNo           20             20\n",
       "\n",
       "[100 rows x 3 columns]"
      ]
     },
     "execution_count": 60,
     "metadata": {},
     "output_type": "execute_result"
    }
   ],
   "source": [
    "df.category_id.value_counts()"
   ]
  },
  {
   "cell_type": "code",
   "execution_count": null,
   "id": "c53fef7c",
   "metadata": {},
   "outputs": [],
   "source": []
  },
  {
   "cell_type": "code",
   "execution_count": null,
   "id": "f33d413b",
   "metadata": {},
   "outputs": [],
   "source": []
  }
 ],
 "metadata": {
  "kernelspec": {
   "display_name": "Python 3",
   "language": "python",
   "name": "python3"
  },
  "language_info": {
   "codemirror_mode": {
    "name": "ipython",
    "version": 3
   },
   "file_extension": ".py",
   "mimetype": "text/x-python",
   "name": "python",
   "nbconvert_exporter": "python",
   "pygments_lexer": "ipython3",
   "version": "3.10.9"
  },
  "vscode": {
   "interpreter": {
    "hash": "a81b4bc3938bd8f3d69751270fa5baefbe4154c7526f8690ed0936808b926fab"
   }
  }
 },
 "nbformat": 4,
 "nbformat_minor": 5
}
