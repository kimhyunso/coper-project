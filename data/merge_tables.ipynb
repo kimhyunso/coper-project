{
 "cells": [
  {
   "cell_type": "code",
   "execution_count": 27,
   "id": "8ffbdd67",
   "metadata": {
    "scrolled": true
   },
   "outputs": [],
   "source": [
    "import pandas as pd\n",
    "\n",
    "common_word = pd.read_csv('./common_word.csv')\n",
    "native_word = pd.read_csv('./neg_word.csv')\n",
    "positive_word = pd.read_csv('./pos_word.csv')\n",
    "trip_review = pd.read_csv('./tripadviser_review.csv')"
   ]
  },
  {
   "cell_type": "code",
   "execution_count": 28,
   "id": "2fea965a",
   "metadata": {},
   "outputs": [],
   "source": [
    "def rating(rating):\n",
    "    # 4~5 : 긍정\n",
    "    # 3 : 보통\n",
    "    if rating >= 4:\n",
    "        return 3\n",
    "    elif rating == 3:\n",
    "        return 2\n",
    "    else:\n",
    "        return 1"
   ]
  },
  {
   "cell_type": "code",
   "execution_count": 29,
   "id": "952ee039",
   "metadata": {},
   "outputs": [
    {
     "data": {
      "text/plain": [
       "3    726\n",
       "2    155\n",
       "1    120\n",
       "Name: y, dtype: int64"
      ]
     },
     "execution_count": 29,
     "metadata": {},
     "output_type": "execute_result"
    }
   ],
   "source": [
    "trip_review['y'] = trip_review['rating'].apply(lambda x : rating(x))\n",
    "trip_review.y.value_counts()\n"
   ]
  },
  {
   "cell_type": "code",
   "execution_count": 30,
   "id": "058dbba4",
   "metadata": {},
   "outputs": [],
   "source": [
    "native_word.drop('label', axis=1, inplace=True)\n",
    "positive_word.drop('label', axis=1, inplace=True)\n",
    "native_word.columns = ['text', 'y']\n",
    "positive_word.columns = ['text', 'y']\n",
    "native_word = native_word.sample(5300 ,random_state=10)\n",
    "trip_review.drop('rating', axis=1, inplace=True)"
   ]
  },
  {
   "cell_type": "code",
   "execution_count": 33,
   "id": "a12e596c",
   "metadata": {
    "scrolled": true
   },
   "outputs": [],
   "source": [
    "# 1 : 긍정적\n",
    "# 0 : 보통\n",
    "# -1 : 부정적\n",
    "native_word.y = 1\n",
    "positive_word.y = 3\n",
    "common_word.y = 2"
   ]
  },
  {
   "cell_type": "code",
   "execution_count": 44,
   "id": "58055b21",
   "metadata": {},
   "outputs": [
    {
     "data": {
      "text/plain": [
       "3    5572\n",
       "1    5420\n",
       "2    5172\n",
       "Name: y, dtype: int64"
      ]
     },
     "execution_count": 44,
     "metadata": {},
     "output_type": "execute_result"
    }
   ],
   "source": [
    "df = pd.concat([trip_review, common_word, native_word, positive_word])\n",
    "df.y.value_counts()\n"
   ]
  },
  {
   "cell_type": "code",
   "execution_count": 45,
   "id": "6cd6c9c4",
   "metadata": {},
   "outputs": [],
   "source": [
    "df.to_csv('./changed_label.csv', index=False)"
   ]
  },
  {
   "cell_type": "code",
   "execution_count": null,
   "id": "e5a8cbc5",
   "metadata": {},
   "outputs": [],
   "source": []
  }
 ],
 "metadata": {
  "kernelspec": {
   "display_name": "Python 3 (ipykernel)",
   "language": "python",
   "name": "python3"
  },
  "language_info": {
   "codemirror_mode": {
    "name": "ipython",
    "version": 3
   },
   "file_extension": ".py",
   "mimetype": "text/x-python",
   "name": "python",
   "nbconvert_exporter": "python",
   "pygments_lexer": "ipython3",
   "version": "3.10.9"
  }
 },
 "nbformat": 4,
 "nbformat_minor": 5
}
